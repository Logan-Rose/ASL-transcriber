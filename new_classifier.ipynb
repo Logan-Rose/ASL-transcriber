{
 "cells": [
  {
   "cell_type": "code",
   "execution_count": 2,
   "metadata": {},
   "outputs": [
    {
     "name": "stderr",
     "output_type": "stream",
     "text": [
      "2022-04-22 10:49:25.460912: I tensorflow/stream_executor/platform/default/dso_loader.cc:49] Successfully opened dynamic library libcudart.so.10.1\n",
      "/home/logan/.local/lib/python3.8/site-packages/tensorflow_addons/utils/ensure_tf_install.py:53: UserWarning: Tensorflow Addons supports using Python ops for all Tensorflow versions above or equal to 2.6.0 and strictly below 2.9.0 (nightly versions are not supported). \n",
      " The versions of TensorFlow you are currently using is 2.4.1 and is not supported. \n",
      "Some things might work, some things might not.\n",
      "If you were to encounter a bug, do not file an issue.\n",
      "If you want to make sure you're using a tested and supported configuration, either change the TensorFlow version or the TensorFlow Addons's version. \n",
      "You can find the compatibility matrix in TensorFlow Addon's readme:\n",
      "https://github.com/tensorflow/addons\n",
      "  warnings.warn(\n"
     ]
    },
    {
     "data": {
      "text/html": [
       "\n",
       "      <iframe id=\"tensorboard-frame-c4dcfdfb56889350\" width=\"100%\" height=\"800\" frameborder=\"0\">\n",
       "      </iframe>\n",
       "      <script>\n",
       "        (function() {\n",
       "          const frame = document.getElementById(\"tensorboard-frame-c4dcfdfb56889350\");\n",
       "          const url = new URL(\"/\", window.location);\n",
       "          const port = 6006;\n",
       "          if (port) {\n",
       "            url.port = port;\n",
       "          }\n",
       "          frame.src = url;\n",
       "        })();\n",
       "      </script>\n",
       "    "
      ],
      "text/plain": [
       "<IPython.core.display.HTML object>"
      ]
     },
     "metadata": {},
     "output_type": "display_data"
    }
   ],
   "source": [
    "import numpy as np\n",
    "import pandas as pd\n",
    "import random as python_random\n",
    "import shutil\n",
    "import os\n",
    "import datetime\n",
    "import skimage\n",
    "import cv2 as cv\n",
    "from cv2 import THRESH_OTSU\n",
    "import mediapipe as mp\n",
    "from datetime import datetime\n",
    "from skimage import io\n",
    "from PIL import Image\n",
    "from multiprocessing import cpu_count\n",
    "from joblib import Parallel, delayed\n",
    "from collections import Counter\n",
    "from matplotlib import pyplot as plt\n",
    "from sklearn.model_selection import StratifiedShuffleSplit, train_test_split\n",
    "from sklearn.metrics import classification_report, confusion_matrix, mean_absolute_error\n",
    "from skimage.transform import rescale, resize, downscale_local_mean\n",
    "import tensorflow as tf\n",
    "from tensorflow import keras\n",
    "from tensorflow.keras import layers\n",
    "from tensorflow.keras.preprocessing import image\n",
    "import tensorflow_addons as tfa\n",
    "from tensorflow_addons import image\n",
    "from tensorflow.keras.preprocessing.image import ImageDataGenerator, img_to_array\n",
    "import skimage\n",
    "from skimage import color\n",
    "from skimage.transform import rescale, resize\n",
    "\n",
    "# for reproducibility purposes\n",
    "SEED = 123\n",
    "tf.random.set_seed(SEED)\n",
    "classes=['a','b','c','d','e','f','g','h','i','j','k','l','m','n','o','p','q','r','s','t','u','v','w','x','y','z']\n",
    "\n",
    "# load tensorboard extension\n",
    "%reload_ext tensorboard\n",
    "# specify the log directory where the tensorboard logs will be written\n",
    "%tensorboard --logdir logs"
   ]
  },
  {
   "cell_type": "code",
   "execution_count": 3,
   "metadata": {},
   "outputs": [
    {
     "name": "stdout",
     "output_type": "stream",
     "text": [
      "Found 10991 images belonging to 26 classes.\n",
      "Found 2734 images belonging to 26 classes.\n"
     ]
    },
    {
     "data": {
      "image/png": "[encoded data removed]",
      "text/plain": [
       "<Figure size 432x288 with 1 Axes>"
      ]
     },
     "metadata": {
      "needs_background": "light"
     },
     "output_type": "display_data"
    }
   ],
   "source": [
    "img_generator = tf.keras.preprocessing.image.ImageDataGenerator(\n",
    "    rotation_range=30.0,\n",
    "    width_shift_range=25.0,\n",
    "    height_shift_range=25.0,\n",
    "    shear_range=0.1,\n",
    "    zoom_range=.2,\n",
    "    fill_mode='constant',\n",
    "    horizontal_flip=True,\n",
    "    vertical_flip=False,\n",
    "    validation_split=0.2\n",
    "    # ,preprocessing_function=tfa.image.gaussian_filter2d\n",
    "    \n",
    ")\n",
    "\n",
    "train_generator = img_generator.flow_from_directory(\n",
    "  './custom_dataset',\n",
    "  target_size=(150,150),\n",
    "  color_mode='grayscale',\n",
    "  classes=classes,\n",
    "  class_mode='categorical',\n",
    "  seed=SEED,\n",
    "  shuffle=False,\n",
    "  subset='training'\n",
    ")\n",
    "\n",
    "val_generator = img_generator.flow_from_directory(\n",
    "  './custom_dataset',\n",
    "  target_size=(150,150),\n",
    "  color_mode='grayscale',\n",
    "  classes=classes,\n",
    "  class_mode='categorical',\n",
    "  seed=SEED,\n",
    "  shuffle=False,\n",
    "  subset='validation'\n",
    ")\n",
    "\n",
    "for i, image in enumerate(val_generator):\n",
    "  if i == 5:\n",
    "    plt.imshow(image[0][1], cmap = 'gray')\n",
    "    break\n",
    "\n"
   ]
  },
  {
   "cell_type": "code",
   "execution_count": 4,
   "metadata": {},
   "outputs": [],
   "source": [
    "def make_directories():\n",
    "    d = datetime.today()\n",
    "    timestamp = d.strftime('%Y%m%d_%H%M%S')\n",
    "    # folder to store the tensorboard logs\n",
    "    tensorlog_folder = os.path.join(os.path.curdir, 'logs', timestamp)\n",
    "    # folder to store the trained models\n",
    "    checkpoint_folder = os.path.join(os.path.curdir, 'models', timestamp)\n",
    "\n",
    "    os.mkdir(tensorlog_folder)\n",
    "    os.mkdir(checkpoint_folder)\n",
    "\n",
    "    return checkpoint_folder, tensorlog_folder"
   ]
  },
  {
   "cell_type": "code",
   "execution_count": 9,
   "metadata": {},
   "outputs": [
    {
     "name": "stdout",
     "output_type": "stream",
     "text": [
      "Model: \"Logan\"\n",
      "__________________________________________________________________________________________________\n",
      "Layer (type)                    Output Shape         Param #     Connected to                     \n",
      "==================================================================================================\n",
      "input_5 (InputLayer)            [(None, 150, 150, 1) 0                                            \n",
      "__________________________________________________________________________________________________\n",
      "layer1 (Conv2D)                 (None, 147, 147, 16) 272         input_5[0][0]                    \n",
      "__________________________________________________________________________________________________\n",
      "layer2 (Conv2D)                 (None, 144, 144, 16) 4112        layer1[0][0]                     \n",
      "__________________________________________________________________________________________________\n",
      "layer3 (MaxPooling2D)           multiple             0           layer2[0][0]                     \n",
      "                                                                 layer3[0][0]                     \n",
      "__________________________________________________________________________________________________\n",
      "layer4 (Conv2D)                 (None, 33, 33, 32)   8224        layer3[1][0]                     \n",
      "__________________________________________________________________________________________________\n",
      "layer5 (Conv2D)                 (None, 30, 30, 32)   16416       layer4[0][0]                     \n",
      "__________________________________________________________________________________________________\n",
      "layer6 (MaxPooling2D)           multiple             0           layer5[0][0]                     \n",
      "                                                                 layer6[0][0]                     \n",
      "__________________________________________________________________________________________________\n",
      "layer7 (Flatten)                (None, 1568)         0           layer6[1][0]                     \n",
      "__________________________________________________________________________________________________\n",
      "layer8 (Dense)                  (None, 128)          200832      layer7[0][0]                     \n",
      "__________________________________________________________________________________________________\n",
      "layer9 (Dense)                  (None, 128)          16512       layer8[0][0]                     \n",
      "__________________________________________________________________________________________________\n",
      "symbol (Dense)                  (None, 26)           3354        layer9[0][0]                     \n",
      "==================================================================================================\n",
      "Total params: 249,722\n",
      "Trainable params: 249,722\n",
      "Non-trainable params: 0\n",
      "__________________________________________________________________________________________________\n",
      "None\n",
      "Epoch 1/100\n"
     ]
    },
    {
     "name": "stderr",
     "output_type": "stream",
     "text": [
      "2022-04-22 10:51:00.500218: I tensorflow/core/profiler/lib/profiler_session.cc:136] Profiler session initializing.\n",
      "2022-04-22 10:51:00.500257: I tensorflow/core/profiler/lib/profiler_session.cc:155] Profiler session started.\n",
      "2022-04-22 10:51:00.500296: I tensorflow/core/profiler/lib/profiler_session.cc:172] Profiler session tear down.\n"
     ]
    },
    {
     "name": "stdout",
     "output_type": "stream",
     "text": [
      "WARNING:tensorflow:AutoGraph could not transform <function Model.make_train_function.<locals>.train_function at 0x7f333bf30040> and will run it as-is.\n",
      "Please report this to the TensorFlow team. When filing the bug, set the verbosity to 10 (on Linux, `export AUTOGRAPH_VERBOSITY=10`) and attach the full output.\n",
      "Cause: unsupported operand type(s) for -: 'NoneType' and 'int'\n",
      "To silence this warning, decorate the function with @tf.autograph.experimental.do_not_convert\n",
      "WARNING: AutoGraph could not transform <function Model.make_train_function.<locals>.train_function at 0x7f333bf30040> and will run it as-is.\n",
      "Please report this to the TensorFlow team. When filing the bug, set the verbosity to 10 (on Linux, `export AUTOGRAPH_VERBOSITY=10`) and attach the full output.\n",
      "Cause: unsupported operand type(s) for -: 'NoneType' and 'int'\n",
      "To silence this warning, decorate the function with @tf.autograph.experimental.do_not_convert\n",
      "  1/344 [..............................] - ETA: 8:33 - loss: 0.0680 - top_k_categorical_accuracy: 0.8125 - accuracy: 0.0000e+00"
     ]
    },
    {
     "name": "stderr",
     "output_type": "stream",
     "text": [
      "2022-04-22 10:51:02.207938: I tensorflow/core/profiler/lib/profiler_session.cc:136] Profiler session initializing.\n",
      "2022-04-22 10:51:02.207969: I tensorflow/core/profiler/lib/profiler_session.cc:155] Profiler session started.\n"
     ]
    },
    {
     "name": "stdout",
     "output_type": "stream",
     "text": [
      "  2/344 [..............................] - ETA: 4:31 - loss: 0.1754 - top_k_categorical_accuracy: 0.8359 - accuracy: 0.0000e+00"
     ]
    },
    {
     "name": "stderr",
     "output_type": "stream",
     "text": [
      "2022-04-22 10:51:03.004418: I tensorflow/core/profiler/lib/profiler_session.cc:71] Profiler session collecting data.\n",
      "2022-04-22 10:51:03.005305: I tensorflow/core/profiler/lib/profiler_session.cc:172] Profiler session tear down.\n",
      "2022-04-22 10:51:03.006734: I tensorflow/core/profiler/rpc/client/save_profile.cc:137] Creating directory: ./logs/20220422_105100/train/plugins/profile/2022_04_22_10_51_03\n",
      "2022-04-22 10:51:03.007577: I tensorflow/core/profiler/rpc/client/save_profile.cc:143] Dumped gzipped tool data for trace.json.gz to ./logs/20220422_105100/train/plugins/profile/2022_04_22_10_51_03/logan-All-Series.trace.json.gz\n",
      "2022-04-22 10:51:03.008985: I tensorflow/core/profiler/rpc/client/save_profile.cc:137] Creating directory: ./logs/20220422_105100/train/plugins/profile/2022_04_22_10_51_03\n",
      "2022-04-22 10:51:03.009077: I tensorflow/core/profiler/rpc/client/save_profile.cc:143] Dumped gzipped tool data for memory_profile.json.gz to ./logs/20220422_105100/train/plugins/profile/2022_04_22_10_51_03/logan-All-Series.memory_profile.json.gz\n",
      "2022-04-22 10:51:03.009261: I tensorflow/core/profiler/rpc/client/capture_profile.cc:251] Creating directory: ./logs/20220422_105100/train/plugins/profile/2022_04_22_10_51_03Dumped tool data for xplane.pb to ./logs/20220422_105100/train/plugins/profile/2022_04_22_10_51_03/logan-All-Series.xplane.pb\n",
      "Dumped tool data for overview_page.pb to ./logs/20220422_105100/train/plugins/profile/2022_04_22_10_51_03/logan-All-Series.overview_page.pb\n",
      "Dumped tool data for input_pipeline.pb to ./logs/20220422_105100/train/plugins/profile/2022_04_22_10_51_03/logan-All-Series.input_pipeline.pb\n",
      "Dumped tool data for tensorflow_stats.pb to ./logs/20220422_105100/train/plugins/profile/2022_04_22_10_51_03/logan-All-Series.tensorflow_stats.pb\n",
      "Dumped tool data for kernel_stats.pb to ./logs/20220422_105100/train/plugins/profile/2022_04_22_10_51_03/logan-All-Series.kernel_stats.pb\n",
      "\n"
     ]
    },
    {
     "name": "stdout",
     "output_type": "stream",
     "text": [
      "142/344 [===========>..................] - ETA: 2:01 - loss: 0.0648 - top_k_categorical_accuracy: 0.2794 - accuracy: 0.0451"
     ]
    },
    {
     "ename": "KeyboardInterrupt",
     "evalue": "",
     "output_type": "error",
     "traceback": [
      "\u001b[0;31m---------------------------------------------------------------------------\u001b[0m",
      "\u001b[0;31mKeyboardInterrupt\u001b[0m                         Traceback (most recent call last)",
      "Input \u001b[0;32mIn [9]\u001b[0m, in \u001b[0;36m<module>\u001b[0;34m\u001b[0m\n\u001b[1;32m     61\u001b[0m tf\u001b[38;5;241m.\u001b[39mkeras\u001b[38;5;241m.\u001b[39mutils\u001b[38;5;241m.\u001b[39mplot_model(\n\u001b[1;32m     62\u001b[0m     model,\n\u001b[1;32m     63\u001b[0m     show_shapes\u001b[38;5;241m=\u001b[39m\u001b[38;5;28;01mTrue\u001b[39;00m,\n\u001b[0;32m   (...)\u001b[0m\n\u001b[1;32m     67\u001b[0m     expand_nested\u001b[38;5;241m=\u001b[39m\u001b[38;5;28;01mFalse\u001b[39;00m,\n\u001b[1;32m     68\u001b[0m     dpi\u001b[38;5;241m=\u001b[39m\u001b[38;5;241m96\u001b[39m)\n\u001b[1;32m     69\u001b[0m     \u001b[38;5;66;03m# # layer_range=None,\u001b[39;00m\n\u001b[1;32m     70\u001b[0m     \u001b[38;5;66;03m# show_layer_activations=False)\u001b[39;00m\n\u001b[0;32m---> 71\u001b[0m \u001b[43mmodel\u001b[49m\u001b[38;5;241;43m.\u001b[39;49m\u001b[43mfit\u001b[49m\u001b[43m(\u001b[49m\n\u001b[1;32m     72\u001b[0m \u001b[43m        \u001b[49m\u001b[43mtrain_generator\u001b[49m\u001b[43m,\u001b[49m\n\u001b[1;32m     73\u001b[0m \u001b[43m        \u001b[49m\u001b[43mepochs\u001b[49m\u001b[38;5;241;43m=\u001b[39;49m\u001b[38;5;241;43m100\u001b[39;49m\u001b[43m,\u001b[49m\n\u001b[1;32m     74\u001b[0m \u001b[43m        \u001b[49m\u001b[43mvalidation_data\u001b[49m\u001b[38;5;241;43m=\u001b[39;49m\u001b[43mval_generator\u001b[49m\u001b[43m,\u001b[49m\n\u001b[1;32m     75\u001b[0m \u001b[43m        \u001b[49m\u001b[43mbatch_size\u001b[49m\u001b[38;5;241;43m=\u001b[39;49m\u001b[38;5;241;43m16\u001b[39;49m\u001b[43m,\u001b[49m\u001b[43m \u001b[49m\n\u001b[1;32m     76\u001b[0m \u001b[43m        \u001b[49m\u001b[43mcallbacks\u001b[49m\u001b[38;5;241;43m=\u001b[39;49m\u001b[43mcallbacks\u001b[49m\u001b[43m,\u001b[49m\n\u001b[1;32m     77\u001b[0m \u001b[43m        \u001b[49m\u001b[38;5;66;43;03m# steps_per_epoch=len(train)/batch_size,\u001b[39;49;00m\n\u001b[1;32m     78\u001b[0m \u001b[43m        \u001b[49m\u001b[38;5;66;43;03m# validation_steps=len(val)/batch_size\u001b[39;49;00m\n\u001b[1;32m     79\u001b[0m \u001b[43m        \u001b[49m\u001b[43m)\u001b[49m\n",
      "File \u001b[0;32m~/miniconda3/envs/csi4106/lib/python3.8/site-packages/tensorflow/python/keras/engine/training.py:1100\u001b[0m, in \u001b[0;36mModel.fit\u001b[0;34m(self, x, y, batch_size, epochs, verbose, callbacks, validation_split, validation_data, shuffle, class_weight, sample_weight, initial_epoch, steps_per_epoch, validation_steps, validation_batch_size, validation_freq, max_queue_size, workers, use_multiprocessing)\u001b[0m\n\u001b[1;32m   1093\u001b[0m \u001b[38;5;28;01mwith\u001b[39;00m trace\u001b[38;5;241m.\u001b[39mTrace(\n\u001b[1;32m   1094\u001b[0m     \u001b[38;5;124m'\u001b[39m\u001b[38;5;124mtrain\u001b[39m\u001b[38;5;124m'\u001b[39m,\n\u001b[1;32m   1095\u001b[0m     epoch_num\u001b[38;5;241m=\u001b[39mepoch,\n\u001b[1;32m   1096\u001b[0m     step_num\u001b[38;5;241m=\u001b[39mstep,\n\u001b[1;32m   1097\u001b[0m     batch_size\u001b[38;5;241m=\u001b[39mbatch_size,\n\u001b[1;32m   1098\u001b[0m     _r\u001b[38;5;241m=\u001b[39m\u001b[38;5;241m1\u001b[39m):\n\u001b[1;32m   1099\u001b[0m   callbacks\u001b[38;5;241m.\u001b[39mon_train_batch_begin(step)\n\u001b[0;32m-> 1100\u001b[0m   tmp_logs \u001b[38;5;241m=\u001b[39m \u001b[38;5;28;43mself\u001b[39;49m\u001b[38;5;241;43m.\u001b[39;49m\u001b[43mtrain_function\u001b[49m\u001b[43m(\u001b[49m\u001b[43miterator\u001b[49m\u001b[43m)\u001b[49m\n\u001b[1;32m   1101\u001b[0m   \u001b[38;5;28;01mif\u001b[39;00m data_handler\u001b[38;5;241m.\u001b[39mshould_sync:\n\u001b[1;32m   1102\u001b[0m     context\u001b[38;5;241m.\u001b[39masync_wait()\n",
      "File \u001b[0;32m~/miniconda3/envs/csi4106/lib/python3.8/site-packages/tensorflow/python/eager/def_function.py:828\u001b[0m, in \u001b[0;36mFunction.__call__\u001b[0;34m(self, *args, **kwds)\u001b[0m\n\u001b[1;32m    826\u001b[0m tracing_count \u001b[38;5;241m=\u001b[39m \u001b[38;5;28mself\u001b[39m\u001b[38;5;241m.\u001b[39mexperimental_get_tracing_count()\n\u001b[1;32m    827\u001b[0m \u001b[38;5;28;01mwith\u001b[39;00m trace\u001b[38;5;241m.\u001b[39mTrace(\u001b[38;5;28mself\u001b[39m\u001b[38;5;241m.\u001b[39m_name) \u001b[38;5;28;01mas\u001b[39;00m tm:\n\u001b[0;32m--> 828\u001b[0m   result \u001b[38;5;241m=\u001b[39m \u001b[38;5;28;43mself\u001b[39;49m\u001b[38;5;241;43m.\u001b[39;49m\u001b[43m_call\u001b[49m\u001b[43m(\u001b[49m\u001b[38;5;241;43m*\u001b[39;49m\u001b[43margs\u001b[49m\u001b[43m,\u001b[49m\u001b[43m \u001b[49m\u001b[38;5;241;43m*\u001b[39;49m\u001b[38;5;241;43m*\u001b[39;49m\u001b[43mkwds\u001b[49m\u001b[43m)\u001b[49m\n\u001b[1;32m    829\u001b[0m   compiler \u001b[38;5;241m=\u001b[39m \u001b[38;5;124m\"\u001b[39m\u001b[38;5;124mxla\u001b[39m\u001b[38;5;124m\"\u001b[39m \u001b[38;5;28;01mif\u001b[39;00m \u001b[38;5;28mself\u001b[39m\u001b[38;5;241m.\u001b[39m_experimental_compile \u001b[38;5;28;01melse\u001b[39;00m \u001b[38;5;124m\"\u001b[39m\u001b[38;5;124mnonXla\u001b[39m\u001b[38;5;124m\"\u001b[39m\n\u001b[1;32m    830\u001b[0m   new_tracing_count \u001b[38;5;241m=\u001b[39m \u001b[38;5;28mself\u001b[39m\u001b[38;5;241m.\u001b[39mexperimental_get_tracing_count()\n",
      "File \u001b[0;32m~/miniconda3/envs/csi4106/lib/python3.8/site-packages/tensorflow/python/eager/def_function.py:855\u001b[0m, in \u001b[0;36mFunction._call\u001b[0;34m(self, *args, **kwds)\u001b[0m\n\u001b[1;32m    852\u001b[0m   \u001b[38;5;28mself\u001b[39m\u001b[38;5;241m.\u001b[39m_lock\u001b[38;5;241m.\u001b[39mrelease()\n\u001b[1;32m    853\u001b[0m   \u001b[38;5;66;03m# In this case we have created variables on the first call, so we run the\u001b[39;00m\n\u001b[1;32m    854\u001b[0m   \u001b[38;5;66;03m# defunned version which is guaranteed to never create variables.\u001b[39;00m\n\u001b[0;32m--> 855\u001b[0m   \u001b[38;5;28;01mreturn\u001b[39;00m \u001b[38;5;28;43mself\u001b[39;49m\u001b[38;5;241;43m.\u001b[39;49m\u001b[43m_stateless_fn\u001b[49m\u001b[43m(\u001b[49m\u001b[38;5;241;43m*\u001b[39;49m\u001b[43margs\u001b[49m\u001b[43m,\u001b[49m\u001b[43m \u001b[49m\u001b[38;5;241;43m*\u001b[39;49m\u001b[38;5;241;43m*\u001b[39;49m\u001b[43mkwds\u001b[49m\u001b[43m)\u001b[49m  \u001b[38;5;66;03m# pylint: disable=not-callable\u001b[39;00m\n\u001b[1;32m    856\u001b[0m \u001b[38;5;28;01melif\u001b[39;00m \u001b[38;5;28mself\u001b[39m\u001b[38;5;241m.\u001b[39m_stateful_fn \u001b[38;5;129;01mis\u001b[39;00m \u001b[38;5;129;01mnot\u001b[39;00m \u001b[38;5;28;01mNone\u001b[39;00m:\n\u001b[1;32m    857\u001b[0m   \u001b[38;5;66;03m# Release the lock early so that multiple threads can perform the call\u001b[39;00m\n\u001b[1;32m    858\u001b[0m   \u001b[38;5;66;03m# in parallel.\u001b[39;00m\n\u001b[1;32m    859\u001b[0m   \u001b[38;5;28mself\u001b[39m\u001b[38;5;241m.\u001b[39m_lock\u001b[38;5;241m.\u001b[39mrelease()\n",
      "File \u001b[0;32m~/miniconda3/envs/csi4106/lib/python3.8/site-packages/tensorflow/python/eager/function.py:2942\u001b[0m, in \u001b[0;36mFunction.__call__\u001b[0;34m(self, *args, **kwargs)\u001b[0m\n\u001b[1;32m   2939\u001b[0m \u001b[38;5;28;01mwith\u001b[39;00m \u001b[38;5;28mself\u001b[39m\u001b[38;5;241m.\u001b[39m_lock:\n\u001b[1;32m   2940\u001b[0m   (graph_function,\n\u001b[1;32m   2941\u001b[0m    filtered_flat_args) \u001b[38;5;241m=\u001b[39m \u001b[38;5;28mself\u001b[39m\u001b[38;5;241m.\u001b[39m_maybe_define_function(args, kwargs)\n\u001b[0;32m-> 2942\u001b[0m \u001b[38;5;28;01mreturn\u001b[39;00m \u001b[43mgraph_function\u001b[49m\u001b[38;5;241;43m.\u001b[39;49m\u001b[43m_call_flat\u001b[49m\u001b[43m(\u001b[49m\n\u001b[1;32m   2943\u001b[0m \u001b[43m    \u001b[49m\u001b[43mfiltered_flat_args\u001b[49m\u001b[43m,\u001b[49m\u001b[43m \u001b[49m\u001b[43mcaptured_inputs\u001b[49m\u001b[38;5;241;43m=\u001b[39;49m\u001b[43mgraph_function\u001b[49m\u001b[38;5;241;43m.\u001b[39;49m\u001b[43mcaptured_inputs\u001b[49m\u001b[43m)\u001b[49m\n",
      "File \u001b[0;32m~/miniconda3/envs/csi4106/lib/python3.8/site-packages/tensorflow/python/eager/function.py:1918\u001b[0m, in \u001b[0;36mConcreteFunction._call_flat\u001b[0;34m(self, args, captured_inputs, cancellation_manager)\u001b[0m\n\u001b[1;32m   1914\u001b[0m possible_gradient_type \u001b[38;5;241m=\u001b[39m gradients_util\u001b[38;5;241m.\u001b[39mPossibleTapeGradientTypes(args)\n\u001b[1;32m   1915\u001b[0m \u001b[38;5;28;01mif\u001b[39;00m (possible_gradient_type \u001b[38;5;241m==\u001b[39m gradients_util\u001b[38;5;241m.\u001b[39mPOSSIBLE_GRADIENT_TYPES_NONE\n\u001b[1;32m   1916\u001b[0m     \u001b[38;5;129;01mand\u001b[39;00m executing_eagerly):\n\u001b[1;32m   1917\u001b[0m   \u001b[38;5;66;03m# No tape is watching; skip to running the function.\u001b[39;00m\n\u001b[0;32m-> 1918\u001b[0m   \u001b[38;5;28;01mreturn\u001b[39;00m \u001b[38;5;28mself\u001b[39m\u001b[38;5;241m.\u001b[39m_build_call_outputs(\u001b[38;5;28;43mself\u001b[39;49m\u001b[38;5;241;43m.\u001b[39;49m\u001b[43m_inference_function\u001b[49m\u001b[38;5;241;43m.\u001b[39;49m\u001b[43mcall\u001b[49m\u001b[43m(\u001b[49m\n\u001b[1;32m   1919\u001b[0m \u001b[43m      \u001b[49m\u001b[43mctx\u001b[49m\u001b[43m,\u001b[49m\u001b[43m \u001b[49m\u001b[43margs\u001b[49m\u001b[43m,\u001b[49m\u001b[43m \u001b[49m\u001b[43mcancellation_manager\u001b[49m\u001b[38;5;241;43m=\u001b[39;49m\u001b[43mcancellation_manager\u001b[49m\u001b[43m)\u001b[49m)\n\u001b[1;32m   1920\u001b[0m forward_backward \u001b[38;5;241m=\u001b[39m \u001b[38;5;28mself\u001b[39m\u001b[38;5;241m.\u001b[39m_select_forward_and_backward_functions(\n\u001b[1;32m   1921\u001b[0m     args,\n\u001b[1;32m   1922\u001b[0m     possible_gradient_type,\n\u001b[1;32m   1923\u001b[0m     executing_eagerly)\n\u001b[1;32m   1924\u001b[0m forward_function, args_with_tangents \u001b[38;5;241m=\u001b[39m forward_backward\u001b[38;5;241m.\u001b[39mforward()\n",
      "File \u001b[0;32m~/miniconda3/envs/csi4106/lib/python3.8/site-packages/tensorflow/python/eager/function.py:555\u001b[0m, in \u001b[0;36m_EagerDefinedFunction.call\u001b[0;34m(self, ctx, args, cancellation_manager)\u001b[0m\n\u001b[1;32m    553\u001b[0m \u001b[38;5;28;01mwith\u001b[39;00m _InterpolateFunctionError(\u001b[38;5;28mself\u001b[39m):\n\u001b[1;32m    554\u001b[0m   \u001b[38;5;28;01mif\u001b[39;00m cancellation_manager \u001b[38;5;129;01mis\u001b[39;00m \u001b[38;5;28;01mNone\u001b[39;00m:\n\u001b[0;32m--> 555\u001b[0m     outputs \u001b[38;5;241m=\u001b[39m \u001b[43mexecute\u001b[49m\u001b[38;5;241;43m.\u001b[39;49m\u001b[43mexecute\u001b[49m\u001b[43m(\u001b[49m\n\u001b[1;32m    556\u001b[0m \u001b[43m        \u001b[49m\u001b[38;5;28;43mstr\u001b[39;49m\u001b[43m(\u001b[49m\u001b[38;5;28;43mself\u001b[39;49m\u001b[38;5;241;43m.\u001b[39;49m\u001b[43msignature\u001b[49m\u001b[38;5;241;43m.\u001b[39;49m\u001b[43mname\u001b[49m\u001b[43m)\u001b[49m\u001b[43m,\u001b[49m\n\u001b[1;32m    557\u001b[0m \u001b[43m        \u001b[49m\u001b[43mnum_outputs\u001b[49m\u001b[38;5;241;43m=\u001b[39;49m\u001b[38;5;28;43mself\u001b[39;49m\u001b[38;5;241;43m.\u001b[39;49m\u001b[43m_num_outputs\u001b[49m\u001b[43m,\u001b[49m\n\u001b[1;32m    558\u001b[0m \u001b[43m        \u001b[49m\u001b[43minputs\u001b[49m\u001b[38;5;241;43m=\u001b[39;49m\u001b[43margs\u001b[49m\u001b[43m,\u001b[49m\n\u001b[1;32m    559\u001b[0m \u001b[43m        \u001b[49m\u001b[43mattrs\u001b[49m\u001b[38;5;241;43m=\u001b[39;49m\u001b[43mattrs\u001b[49m\u001b[43m,\u001b[49m\n\u001b[1;32m    560\u001b[0m \u001b[43m        \u001b[49m\u001b[43mctx\u001b[49m\u001b[38;5;241;43m=\u001b[39;49m\u001b[43mctx\u001b[49m\u001b[43m)\u001b[49m\n\u001b[1;32m    561\u001b[0m   \u001b[38;5;28;01melse\u001b[39;00m:\n\u001b[1;32m    562\u001b[0m     outputs \u001b[38;5;241m=\u001b[39m execute\u001b[38;5;241m.\u001b[39mexecute_with_cancellation(\n\u001b[1;32m    563\u001b[0m         \u001b[38;5;28mstr\u001b[39m(\u001b[38;5;28mself\u001b[39m\u001b[38;5;241m.\u001b[39msignature\u001b[38;5;241m.\u001b[39mname),\n\u001b[1;32m    564\u001b[0m         num_outputs\u001b[38;5;241m=\u001b[39m\u001b[38;5;28mself\u001b[39m\u001b[38;5;241m.\u001b[39m_num_outputs,\n\u001b[0;32m   (...)\u001b[0m\n\u001b[1;32m    567\u001b[0m         ctx\u001b[38;5;241m=\u001b[39mctx,\n\u001b[1;32m    568\u001b[0m         cancellation_manager\u001b[38;5;241m=\u001b[39mcancellation_manager)\n",
      "File \u001b[0;32m~/miniconda3/envs/csi4106/lib/python3.8/site-packages/tensorflow/python/eager/execute.py:59\u001b[0m, in \u001b[0;36mquick_execute\u001b[0;34m(op_name, num_outputs, inputs, attrs, ctx, name)\u001b[0m\n\u001b[1;32m     57\u001b[0m \u001b[38;5;28;01mtry\u001b[39;00m:\n\u001b[1;32m     58\u001b[0m   ctx\u001b[38;5;241m.\u001b[39mensure_initialized()\n\u001b[0;32m---> 59\u001b[0m   tensors \u001b[38;5;241m=\u001b[39m \u001b[43mpywrap_tfe\u001b[49m\u001b[38;5;241;43m.\u001b[39;49m\u001b[43mTFE_Py_Execute\u001b[49m\u001b[43m(\u001b[49m\u001b[43mctx\u001b[49m\u001b[38;5;241;43m.\u001b[39;49m\u001b[43m_handle\u001b[49m\u001b[43m,\u001b[49m\u001b[43m \u001b[49m\u001b[43mdevice_name\u001b[49m\u001b[43m,\u001b[49m\u001b[43m \u001b[49m\u001b[43mop_name\u001b[49m\u001b[43m,\u001b[49m\n\u001b[1;32m     60\u001b[0m \u001b[43m                                      \u001b[49m\u001b[43minputs\u001b[49m\u001b[43m,\u001b[49m\u001b[43m \u001b[49m\u001b[43mattrs\u001b[49m\u001b[43m,\u001b[49m\u001b[43m \u001b[49m\u001b[43mnum_outputs\u001b[49m\u001b[43m)\u001b[49m\n\u001b[1;32m     61\u001b[0m \u001b[38;5;28;01mexcept\u001b[39;00m core\u001b[38;5;241m.\u001b[39m_NotOkStatusException \u001b[38;5;28;01mas\u001b[39;00m e:\n\u001b[1;32m     62\u001b[0m   \u001b[38;5;28;01mif\u001b[39;00m name \u001b[38;5;129;01mis\u001b[39;00m \u001b[38;5;129;01mnot\u001b[39;00m \u001b[38;5;28;01mNone\u001b[39;00m:\n",
      "\u001b[0;31mKeyboardInterrupt\u001b[0m: "
     ]
    }
   ],
   "source": [
    "check_dir, tboard_dir = make_directories()\n",
    "\n",
    "input = keras.Input(shape=(150, 150, 1))\n",
    "layer1 = tf.keras.layers.Conv2D(16, (4,4), activation= 'relu', name=\"layer1\")\n",
    "layer2 = tf.keras.layers.Conv2D(16, (4,4), activation= 'relu', name=\"layer2\")\n",
    "layer3 = tf.keras.layers.MaxPool2D((2,2), name=\"layer3\")\n",
    "layer4 = tf.keras.layers.Dropout(0.5,name=\"layer4\")\n",
    "layer5 = tf.keras.layers.Conv2D(32, (4,4), activation= 'relu', name=\"layer5\")\n",
    "layer6 = tf.keras.layers.Conv2D(32, (4,4), activation= 'relu', name=\"layer6\")\n",
    "layer7 = tf.keras.layers.MaxPool2D((2,2), name=\"layer7\")\n",
    "layer8 = tf.keras.layers.Dropout(0.5,name=\"layer8\")\n",
    "layer9 = tf.keras.layers.Flatten(name=\"layer9\")\n",
    "layer10 = tf.keras.layers.Dense(128, activation='relu', name='layer10')\n",
    "layer11 = tf.keras.layers.Dense(128, activation='relu', name='layer11')\n",
    "# layer6 = tf.keras.layers.Dense(128, activation='relu', name='layer6')\n",
    "\n",
    "output =  tf.keras.layers.Dense(len(classes), activation='softmax', name='symbol')\n",
    "\n",
    "network = output(layer11(layer10(layer9(layer8(layer7(layer7(layer6(layer5(layer4(layer3(layer3(layer2(layer1(input))))))))))))))\n",
    "\n",
    "optimizer = tf.keras.optimizers.RMSprop(learning_rate=0.001)\n",
    "\n",
    "model = tf.keras.Model(inputs=input, outputs=network, name=\"Logan\")\n",
    "\n",
    "\n",
    "model.compile(optimizer='adam',\n",
    "              loss=tf.keras.losses.CategoricalCrossentropy(),\n",
    "              loss_weights=[0.01],\n",
    "              metrics=[tf.keras.metrics.top_k_categorical_accuracy, 'accuracy'],\n",
    "              )\n",
    "\n",
    "\n",
    "early_stop = keras.callbacks.EarlyStopping(\n",
    "    monitor='val_loss',\n",
    "    patience=8,\n",
    "    restore_best_weights=True\n",
    ")\n",
    "checkpoints = keras.callbacks.ModelCheckpoint(\n",
    "    filepath=check_dir,\n",
    "    monitor='val_loss',\n",
    "    save_best_only=True,\n",
    "    save_weights_only=False\n",
    ")\n",
    "tensorboard = keras.callbacks.TensorBoard(\n",
    "    log_dir=tboard_dir\n",
    ")\n",
    "reduce_lr = keras.callbacks.ReduceLROnPlateau(\n",
    "    monitor='val_loss',\n",
    "    factor=0.1,\n",
    "    patience=5,\n",
    "    min_lr=1e-5,\n",
    "    verbose=1\n",
    ")\n",
    "\n",
    "callbacks = [checkpoints, early_stop, tensorboard, reduce_lr]\n",
    "\n",
    "# fit the model with training and validation generators\n",
    "# In addition please specify the following arguments\n",
    "# steps_per_epoch=len(df_train)/batch_size\n",
    "# validation_steps=len(df_val)/batch_size\n",
    "# (5)\n",
    "print(model.summary())\n",
    "tf.keras.utils.plot_model(\n",
    "    model,\n",
    "    show_shapes=True,\n",
    "    show_dtype=False,\n",
    "    show_layer_names=True,\n",
    "    rankdir=\"TB\",\n",
    "    expand_nested=False,\n",
    "    dpi=96)\n",
    "    # # layer_range=None,\n",
    "    # show_layer_activations=False)\n",
    "model.fit(\n",
    "        train_generator,\n",
    "        epochs=100,\n",
    "        validation_data=val_generator,\n",
    "        batch_size=16, \n",
    "        callbacks=callbacks,\n",
    "        # steps_per_epoch=len(train)/batch_size,\n",
    "        # validation_steps=len(val)/batch_size\n",
    "        )\n",
    "\n",
    "\n"
   ]
  },
  {
   "cell_type": "code",
   "execution_count": 37,
   "metadata": {},
   "outputs": [],
   "source": [
    "# model = tf.keras.models.load_model('./models/20220421_194054')"
   ]
  },
  {
   "cell_type": "code",
   "execution_count": 40,
   "metadata": {},
   "outputs": [
    {
     "name": "stdout",
     "output_type": "stream",
     "text": [
      "Found 520 images belonging to 26 classes.\n",
      "WARNING:tensorflow:AutoGraph could not transform <function Model.make_predict_function.<locals>.predict_function at 0x7f4a26c21670> and will run it as-is.\n",
      "Please report this to the TensorFlow team. When filing the bug, set the verbosity to 10 (on Linux, `export AUTOGRAPH_VERBOSITY=10`) and attach the full output.\n",
      "Cause: unsupported operand type(s) for -: 'NoneType' and 'int'\n",
      "To silence this warning, decorate the function with @tf.autograph.experimental.do_not_convert\n",
      "WARNING: AutoGraph could not transform <function Model.make_predict_function.<locals>.predict_function at 0x7f4a26c21670> and will run it as-is.\n",
      "Please report this to the TensorFlow team. When filing the bug, set the verbosity to 10 (on Linux, `export AUTOGRAPH_VERBOSITY=10`) and attach the full output.\n",
      "Cause: unsupported operand type(s) for -: 'NoneType' and 'int'\n",
      "To silence this warning, decorate the function with @tf.autograph.experimental.do_not_convert\n",
      "17/17 [==============================] - 2s 101ms/step\n",
      "              precision    recall  f1-score   support\n",
      "\n",
      "           0       0.78      0.90      0.84        20\n",
      "           1       1.00      0.75      0.86        20\n",
      "           2       0.73      0.95      0.83        20\n",
      "           3       1.00      0.55      0.71        20\n",
      "           4       0.82      0.45      0.58        20\n",
      "           5       0.93      0.65      0.76        20\n",
      "           6       1.00      0.85      0.92        20\n",
      "           7       0.83      0.75      0.79        20\n",
      "           8       0.93      0.65      0.76        20\n",
      "           9       0.75      0.45      0.56        20\n",
      "          10       0.76      0.95      0.84        20\n",
      "          11       0.75      0.90      0.82        20\n",
      "          12       0.77      0.50      0.61        20\n",
      "          13       0.50      0.50      0.50        20\n",
      "          14       1.00      0.75      0.86        20\n",
      "          15       0.78      0.90      0.84        20\n",
      "          16       0.94      0.85      0.89        20\n",
      "          17       0.68      0.65      0.67        20\n",
      "          18       0.36      0.80      0.50        20\n",
      "          19       0.57      0.85      0.68        20\n",
      "          20       1.00      0.60      0.75        20\n",
      "          21       0.84      0.80      0.82        20\n",
      "          22       0.93      0.65      0.76        20\n",
      "          23       0.82      0.90      0.86        20\n",
      "          24       0.72      0.90      0.80        20\n",
      "          25       0.47      0.85      0.61        20\n",
      "\n",
      "    accuracy                           0.74       520\n",
      "   macro avg       0.80      0.74      0.75       520\n",
      "weighted avg       0.80      0.74      0.75       520\n",
      "\n"
     ]
    }
   ],
   "source": [
    "from sklearn.metrics import classification_report\n",
    "test_img_generator = tf.keras.preprocessing.image.ImageDataGenerator(\n",
    "    width_shift_range=25.0,\n",
    "    height_shift_range=25.0,\n",
    "    horizontal_flip=True, \n",
    ")\n",
    "test_generator = test_img_generator.flow_from_directory(\n",
    "  './test_data',\n",
    "  target_size=(150,150),\n",
    "  color_mode='grayscale',\n",
    "  classes=classes,\n",
    "  class_mode='categorical',\n",
    "  seed=SEED,\n",
    "  shuffle=False,\n",
    ")\n",
    "\n",
    "y_pred = model.predict(test_generator, batch_size=64, verbose=1)\n",
    "y_pred_bool = np.argmax(y_pred, axis=1)\n",
    "\n",
    "print(classification_report(test_generator.classes, y_pred_bool))"
   ]
  },
  {
   "cell_type": "code",
   "execution_count": 6,
   "metadata": {},
   "outputs": [],
   "source": [
    "# takes hand detection output to add bounding rectangles\n",
    "def find_hands(current, width, height):\n",
    "    rect_list = []\n",
    "    hand_classifier = []\n",
    "    center = (0,0)\n",
    "    # iterates through hand tracking data per hand\n",
    "    if current.multi_hand_landmarks:\n",
    "        for index, info in enumerate(current.multi_handedness):\n",
    "            which = info.classification[0].label\n",
    "            hand_classifier.append(which)\n",
    "        for index, hand in enumerate(current.multi_hand_landmarks):\n",
    "            # values from 0 to 1 converted into values corresponding to video size\n",
    "            hand_list = []\n",
    "            for individual in hand.landmark:\n",
    "                hand_list.append((int(individual.x * width), int(individual.y * height), int(individual.z * width)))\n",
    "            # developing bounding box coordinates\n",
    "            x_values = np.array(hand_list)[:, 0]\n",
    "            y_values = np.array(hand_list)[:, 1]\n",
    "            x_min = int(np.min(x_values) - 10)\n",
    "            y_min = int(np.min(y_values) - 10)\n",
    "            x_max = int(np.max(x_values) + 10)\n",
    "            y_max = int(np.max(y_values) + 10)\n",
    "            center = (x_min + (x_max-x_min)//2, y_min + (y_max-y_min)//2)\n",
    "            rect_list.append(((x_min, y_min), (x_max, y_max), (0, 255, 0), hand_classifier[index]))\n",
    "    return rect_list, center"
   ]
  },
  {
   "cell_type": "code",
   "execution_count": 7,
   "metadata": {},
   "outputs": [],
   "source": [
    "def capture():\n",
    "    video = cv.VideoCapture(0, cv.CAP_DSHOW) #captureDevice = camera\n",
    "    running, original = video.read()\n",
    "    h, w, _ = original.shape    \n",
    "    # machine learning algorithm (using mediapipe, via google)\n",
    "    # init_hands = mp.solutions.hands\n",
    "    # hands = init_hands.Hands()\n",
    "    hands = mp.solutions.hands.Hands()\n",
    "    savedFrames = []\n",
    "    # continuous looping\n",
    "    while True:\n",
    "        running, original = video.read()\n",
    "        if not running:\n",
    "            break\n",
    "        # hand processing\n",
    "        track_curr = hands.process(original)\n",
    "        # calculating bounding rectangles\n",
    "        current_rects, center = find_hands(track_curr, w, h)\n",
    "\n",
    "        if current_rects:\n",
    "          if len(current_rects) > 1:\n",
    "            print('Please use only one hand')\n",
    "          else:\n",
    "            current_rect = current_rects[0]\n",
    "            left = current_rect[0][0]\n",
    "            right = current_rect[1][0]\n",
    "            top = current_rect[0][1]\n",
    "            bottom = current_rect[1][1]\n",
    "            hand_width = right - left\n",
    "            hand_height = bottom-top\n",
    "            square_top_left = (center[0]-75,center[1]-75)\n",
    "            square_bottom_right = (center[0]+75,center[1]+75)\n",
    "\n",
    "            red = (0,0,255)\n",
    "            green = (0,255,0)\n",
    "            if hand_width <= 150 and hand_height <= 150:\n",
    "              if top > 0 and left > 0 and bottom > 0 and right > 0:\n",
    "                # cv.rectangle(original, current_rect[0], current_rect[1], green, 1)\n",
    "                cv.rectangle(original,square_top_left ,square_bottom_right , green,1)\n",
    "                crop = original[center[1]-75:center[1]+75,center[0]-75:center[0]+75]   \n",
    "                savedFrames.append(crop)\n",
    "              \n",
    "                # cv.circle(original, center, 10, 2, 2)\n",
    "            else:\n",
    "              cv.rectangle(original, current_rect[0], current_rect[1], red, 2)\n",
    "              cv.rectangle(original,square_top_left ,square_bottom_right , red,2)\n",
    "              # print(\"You're too close! Back up!\")\n",
    "        cv.imshow(\"Video Feed\", original)\n",
    "        k = cv.waitKey(1) & 0xff\n",
    "        if k == 27:\n",
    "            break\n",
    "    cv.destroyAllWindows()\n",
    "    video.release()\n",
    "    return savedFrames"
   ]
  },
  {
   "cell_type": "code",
   "execution_count": 54,
   "metadata": {},
   "outputs": [],
   "source": []
  },
  {
   "cell_type": "code",
   "execution_count": 102,
   "metadata": {},
   "outputs": [
    {
     "name": "stdout",
     "output_type": "stream",
     "text": [
      "Please use only one hand\n",
      "Please use only one hand\n",
      "Please use only one hand\n",
      "Please use only one hand\n",
      "Please use only one hand\n",
      "Please use only one hand\n",
      "Please use only one hand\n",
      "Please use only one hand\n",
      "Please use only one hand\n",
      "Please use only one hand\n",
      "Please use only one hand\n",
      "Please use only one hand\n",
      "Please use only one hand\n",
      "Please use only one hand\n",
      "Please use only one hand\n",
      "Please use only one hand\n",
      "Please use only one hand\n",
      "Please use only one hand\n",
      "Please use only one hand\n",
      "Please use only one hand\n",
      "Please use only one hand\n",
      "Please use only one hand\n",
      "Please use only one hand\n",
      "Please use only one hand\n",
      "Please use only one hand\n",
      "Please use only one hand\n",
      "Please use only one hand\n",
      "Please use only one hand\n",
      "1384\n",
      "oaaaaaaaaaaaaaaaaassaaaaaaaaeeeeebbbbbbbbbbbbbbbbbbbbbbbbbbbbbbbbbbbbbbbbbbbbeeecccccccccccccccccccccccccccccccccccocccxxxxxxddrzurrzrrrrrrrrrrrrrrrruuuuuuuuurxzmssssssssssssssssssssssssssssseenebbbbeebeefeeeeeeeebeeeeeeeeeebeeaaxzpcccggcgggggggggggggggggggggggggggggggggggggggghhhhhhhhhhhhhhhhhhhhhhhhhhhhhhzzzjjaeeaiaiiiiiiiiiiiiiiiiiiiiiiiiiiiiiiiiiajjjjjjjaaaaiiiiiiiiiiiiiiiiiiiiiiixizjjjjjjjjjaaaajjaaixibbkkkkkkkkkkkkkkkkkkkkkkkkkkkkkkkkkkkkkkkkkxxxlllllllllllllllllllllllllllllllllllllllllllllllllllameaassssssssssassssssssssaasmmmssssssssssssssssssssssaaaasssssssmmsssssossssssaasaaaaaaaaaaasaaaaaaasaaasssaasaaaeeeeeccccooooccccccccccccccccccccccccccccccosjppppppppppppppppppppppppppppppppppppppppppppppppppppppppppppppppppqqpppppqqqqqqqqqqqqqpppppqqqqqqqqqqpqqpqqpqqqqpczzrrrrrrrrrrrrrrrrrrrrxrrrrrrrrrrrrrrrrrrrrrxxxxxdxddddddxxeaaaaassntsasaaasssssssssssssssaaaaaaaaaasaaaaaaaaaaaaxjjaaaaaaaaaaaaaaaaaaaaaaaaaaaaaaaaaaaaaaaaaaaaaaaaaaaaaaxxxxxxxxxxxxxuxxxxzuuzxzzzuzzzzzzzzzubbuubbuuubuuubbuuuuuuuuuuzuuuuuuuuzcwwwbwbbbwkwwwwwwwwwwwwwwwwwwwwwwwwwwwwwwwwwwwwwwwwwwwwwwwwwcckkkkkkkkkkkkkkkkkkkkkkkkkkkkkkkkkkkkkkkkkkkkkkkkkkkkkkkkkkkkkkkkkkkxxxccxxxxxxxxxxxxxxxxxxxxxzdxxxxxxxxxxxxxxxxxxxxxxxxxxxxxxxxxxxxxxxxxxxxxxxxxxxxzzajaaayyyyyyyyyyyyyyyyyyyyyyyyyyyyyyyyyyyyyyyyyaaxxzzzzzzzxzzzzzzzjjzzzzzzczzzzczzhzzzxxxzzzhhhjjzzghhhhhzzzzzzzzzzzzzzszzzzzzzzzzzzzzzzzzzzzzzzzzzzzzz\n"
     ]
    },
    {
     "data": {
      "image/png": "[encoded data removed]",
      "text/plain": [
       "<Figure size 432x288 with 1 Axes>"
      ]
     },
     "metadata": {
      "needs_background": "light"
     },
     "output_type": "display_data"
    }
   ],
   "source": [
    "frames = capture()\n",
    "def open_operation(ex_img):\n",
    "    ex_img = cv.erode(ex_img, (11, 11))\n",
    "    ex_img = cv.dilate(ex_img, (11, 11))\n",
    "    return ex_img\n",
    "def prepare_image(grayImg):\n",
    "    img1 = cv.medianBlur(grayImg, 13)\n",
    "    ex_img = open_operation(img1)\n",
    "    ex_img = open_operation(ex_img)\n",
    "    ex_img = open_operation(ex_img)\n",
    "    return ex_img\n",
    "\n",
    "def contrast(img):\n",
    "    _, mask = cv.threshold(img, thresh=50, maxval=255, type=cv.THRESH_OTSU)\n",
    "    ex_img = prepare_image(mask)\n",
    "    res = cv.bitwise_and(img, ex_img)\n",
    "    # cv.imshow(\"masked\", res)\n",
    "    # cv.imshow(\"mask\", mask)\n",
    "    # cv.imshow(\"unmasked\", img)\n",
    "    return res\n",
    "\n",
    "def saveImg(img):\n",
    "  im = Image.fromarray((img*255))\n",
    "  plt.imshow(im, cmap = 'gray')\n",
    "  if im.mode !='RGB':\n",
    "    im = im.convert('RGB')\n",
    "  im.save(f'./frames/{i}.png')\n",
    "\n",
    "print(len(frames))\n",
    "processedFrames= []\n",
    "for i, frame in enumerate(frames):\n",
    "\n",
    "  img = resize(frame, (150,150,1))\n",
    "  img *= 255\n",
    "  img = img.astype(np.uint8)\n",
    "  # img = contrast(img)\n",
    "  plt.imshow(img, cmap = 'gray')  \n",
    "  # print(frame.type())\n",
    "  x = tf.keras.preprocessing.image.img_to_array(img)\n",
    "  x = np.expand_dims(x, axis=0)\n",
    " \n",
    "  processedFrames.append(x)\n",
    "  # saveImg(img)\n",
    "\n",
    "\n",
    "images = np.vstack(processedFrames)\n",
    "predictions = model.predict(images)\n",
    "output = \"\"\n",
    "for prediction in predictions:\n",
    "  classIndex = np.argmax(prediction)\n",
    "  output += classes[classIndex]\n",
    "print(output)\n",
    "  # for i in range(len(predictions[0])):\n",
    "  #   print(classes[i], predictions[0][i])\n",
    "\n",
    "\n",
    "\n",
    "\n",
    "# lllllllllllllllllllllllllllllccooooooooooooooooooooooooooooooooooooooaaooqqcccgpggggggggqgqgggggg1gggggggggggggggggggcqaannnsassasaassssasaaaaaaaaaaaaaaaaaaaaaaaaaaaaaaaaaaaaaaaaaaaaaaaannnnnmnnnnnnnnnnnnnnnnnnnnnnnnnnnnnnnnnnnnnnnnnnnneee\n",
    "\n"
   ]
  },
  {
   "cell_type": "code",
   "execution_count": 103,
   "metadata": {},
   "outputs": [
    {
     "name": "stdout",
     "output_type": "stream",
     "text": [
      "[('o', 1), ('a', 17), ('s', 2), ('a', 8), ('e', 5), ('b', 44), ('e', 3), ('c', 35), ('o', 1), ('c', 3), ('x', 6), ('d', 2), ('r', 1), ('z', 1), ('u', 1), ('r', 2), ('z', 1), ('r', 16), ('u', 9), ('r', 1), ('x', 1), ('z', 1), ('m', 1), ('s', 29), ('e', 2), ('n', 1), ('e', 1), ('b', 4), ('e', 2), ('b', 1), ('e', 2), ('f', 1), ('e', 8), ('b', 1), ('e', 10), ('b', 1), ('e', 2), ('a', 2), ('x', 1), ('z', 1), ('p', 1), ('c', 3), ('g', 2), ('c', 1), ('g', 40), ('h', 30), ('z', 3), ('j', 2), ('a', 1), ('e', 2), ('a', 1), ('i', 1), ('a', 1), ('i', 33), ('a', 1), ('j', 7), ('a', 4), ('i', 23), ('x', 1), ('i', 1), ('z', 1), ('j', 9), ('a', 4), ('j', 2), ('a', 2), ('i', 1), ('x', 1), ('i', 1), ('b', 2), ('k', 41), ('x', 3), ('l', 51), ('a', 1), ('m', 1), ('e', 1), ('a', 2), ('s', 10), ('a', 1), ('s', 10), ('a', 2), ('s', 1), ('m', 3), ('s', 22), ('a', 4), ('s', 7), ('m', 2), ('s', 5), ('o', 1), ('s', 6), ('a', 2), ('s', 1), ('a', 11), ('s', 1), ('a', 7), ('s', 1), ('a', 3), ('s', 3), ('a', 2), ('s', 1), ('a', 3), ('e', 5), ('c', 4), ('o', 4), ('c', 30), ('o', 1), ('s', 1), ('j', 1), ('p', 66), ('q', 2), ('p', 5), ('q', 13), ('p', 5), ('q', 10), ('p', 1), ('q', 2), ('p', 1), ('q', 2), ('p', 1), ('q', 4), ('p', 1), ('c', 1), ('z', 2), ('r', 20), ('x', 1), ('r', 21), ('x', 5), ('d', 1), ('x', 1), ('d', 6), ('x', 2), ('e', 1), ('a', 5), ('s', 2), ('n', 1), ('t', 1), ('s', 1), ('a', 1), ('s', 1), ('a', 3), ('s', 15), ('a', 10), ('s', 1), ('a', 12), ('x', 1), ('j', 2), ('a', 54), ('x', 13), ('u', 1), ('x', 4), ('z', 1), ('u', 2), ('z', 1), ('x', 1), ('z', 3), ('u', 1), ('z', 9), ('u', 1), ('b', 2), ('u', 2), ('b', 2), ('u', 3), ('b', 1), ('u', 3), ('b', 2), ('u', 10), ('z', 1), ('u', 8), ('z', 1), ('c', 1), ('w', 3), ('b', 1), ('w', 1), ('b', 3), ('w', 1), ('k', 1), ('w', 49), ('c', 2), ('k', 67), ('x', 3), ('c', 2), ('x', 21), ('z', 1), ('d', 1), ('x', 52), ('z', 2), ('a', 1), ('j', 1), ('a', 3), ('y', 41), ('a', 2), ('x', 2), ('z', 7), ('x', 1), ('z', 7), ('j', 2), ('z', 6), ('c', 1), ('z', 4), ('c', 1), ('z', 2), ('h', 1), ('z', 3), ('x', 3), ('z', 3), ('h', 3), ('j', 2), ('z', 2), ('g', 1), ('h', 5), ('z', 14), ('s', 1), ('z', 31)]\n",
      "abcrsghiklscpqrsaxwkxyz\n"
     ]
    }
   ],
   "source": [
    "strengths = [(output[0],1)]\n",
    "for i in range(1, len(output)):\n",
    "  if output[i] == output[i-1]:\n",
    "    strengths[-1] = (strengths[-1][0],strengths[-1][1]+1)\n",
    "  else:\n",
    "    strengths.append((output[i],1))\n",
    "\n",
    "print(strengths)\n",
    "barrier = 10\n",
    "final = ''\n",
    "\n",
    "for letter in strengths:\n",
    "  if letter[1] >= barrier:\n",
    "    if len(final) > 0:\n",
    "      if letter[0] != final[-1]:\n",
    "        final += letter[0]\n",
    "    else:\n",
    "      final += letter[0]\n",
    "print(final)\n"
   ]
  },
  {
   "cell_type": "code",
   "execution_count": 104,
   "metadata": {},
   "outputs": [
    {
     "data": {
      "image/png": "[encoded data removed]",
      "text/plain": [
       "<Figure size 432x288 with 1 Axes>"
      ]
     },
     "metadata": {
      "needs_background": "light"
     },
     "output_type": "display_data"
    }
   ],
   "source": [
    "pureStrengths = []\n",
    "for i in strengths:\n",
    "  pureStrengths.append(i[1])\n",
    "\n",
    "plt.plot(pureStrengths)\n",
    "plt.axhline(y=barrier, color='r', linestyle='-')\n",
    "\n",
    "plt.show()"
   ]
  },
  {
   "cell_type": "markdown",
   "metadata": {},
   "source": [
    "As a test case, I signed \"Logan\" <br>\n",
    "The frame by frame classification resulted in the following string: <br>\n",
    "lllllllcllcllllllllllllllllllooooooooooooooooooooooooooczgggggggggggggggggggpgpgggggggggjppppppppclyeejjjjjjjjjsjjjegxgggggggggggzggxxxggcccxggxgggggxxmtmeeeeetttxggggxxxxxxxxxxxxxxeedzggxxxxxooo\n",
    "<br>\n",
    "After applying the grouping algorithm, the final string output was \"logx\" corrctly classing the first 3 letters\n"
   ]
  },
  {
   "cell_type": "code",
   "execution_count": 17,
   "metadata": {},
   "outputs": [],
   "source": []
  }
 ],
 "metadata": {
  "interpreter": {
   "hash": "367e97bd1bb993270875333a5c0c0ed703268d8b20e00e99d22f213f8fc7c5a0"
  },
  "kernelspec": {
   "display_name": "Python 3.8.12 ('csi4106')",
   "language": "python",
   "name": "python3"
  },
  "language_info": {
   "codemirror_mode": {
    "name": "ipython",
    "version": 3
   },
   "file_extension": ".py",
   "mimetype": "text/x-python",
   "name": "python",
   "nbconvert_exporter": "python",
   "pygments_lexer": "ipython3",
   "version": "3.8.12"
  },
  "orig_nbformat": 4
 },
 "nbformat": 4,
 "nbformat_minor": 2
}
