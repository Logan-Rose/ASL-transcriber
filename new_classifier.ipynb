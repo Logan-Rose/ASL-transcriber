{
 "cells": [
  {
   "cell_type": "code",
   "execution_count": 2,
   "metadata": {},
   "outputs": [
    {
     "name": "stderr",
     "output_type": "stream",
     "text": [
      "2022-04-10 20:56:23.055919: W tensorflow/stream_executor/platform/default/dso_loader.cc:64] Could not load dynamic library 'libcudart.so.11.0'; dlerror: libcudart.so.11.0: cannot open shared object file: No such file or directory\n",
      "2022-04-10 20:56:23.055938: I tensorflow/stream_executor/cuda/cudart_stub.cc:29] Ignore above cudart dlerror if you do not have a GPU set up on your machine.\n"
     ]
    },
    {
     "data": {
      "text/html": [
       "\n",
       "      <iframe id=\"tensorboard-frame-a8c03319ec0ff577\" width=\"100%\" height=\"800\" frameborder=\"0\">\n",
       "      </iframe>\n",
       "      <script>\n",
       "        (function() {\n",
       "          const frame = document.getElementById(\"tensorboard-frame-a8c03319ec0ff577\");\n",
       "          const url = new URL(\"/\", window.location);\n",
       "          const port = 6006;\n",
       "          if (port) {\n",
       "            url.port = port;\n",
       "          }\n",
       "          frame.src = url;\n",
       "        })();\n",
       "      </script>\n",
       "    "
      ],
      "text/plain": [
       "<IPython.core.display.HTML object>"
      ]
     },
     "metadata": {},
     "output_type": "display_data"
    }
   ],
   "source": [
    "import numpy as np\n",
    "import pandas as pd\n",
    "import random as python_random\n",
    "import shutil\n",
    "import os\n",
    "import datetime\n",
    "from PIL import Image\n",
    "from multiprocessing import cpu_count\n",
    "from joblib import Parallel, delayed\n",
    "from collections import Counter\n",
    "from matplotlib import pyplot as plt\n",
    "from sklearn.model_selection import StratifiedShuffleSplit, train_test_split\n",
    "from sklearn.metrics import classification_report, confusion_matrix, mean_absolute_error\n",
    "\n",
    "import tensorflow as tf\n",
    "from tensorflow import keras\n",
    "from tensorflow.keras import layers\n",
    "from tensorflow.keras.preprocessing.image import ImageDataGenerator\n",
    "\n",
    "# for reproducibility purposes\n",
    "SEED = 123\n",
    "tf.random.set_seed(SEED)\n",
    "classes=['a','b','c','d','e','f','g','h','i','j','k','l','m','n','o','p','q','r','s','t','u','v','w','x','y','z']\n",
    "\n",
    "# load tensorboard extension\n",
    "%reload_ext tensorboard\n",
    "# specify the log directory where the tensorboard logs will be written\n",
    "%tensorboard --logdir logs"
   ]
  },
  {
   "cell_type": "code",
   "execution_count": 3,
   "metadata": {},
   "outputs": [
    {
     "name": "stdout",
     "output_type": "stream",
     "text": [
      "Found 1452 images belonging to 26 classes.\n",
      "Found 363 images belonging to 26 classes.\n"
     ]
    },
    {
     "data": {
      "image/png": "[encoded data removed]",
      "text/plain": [
       "<Figure size 432x288 with 1 Axes>"
      ]
     },
     "metadata": {
      "needs_background": "light"
     },
     "output_type": "display_data"
    }
   ],
   "source": [
    "img_generator = tf.keras.preprocessing.image.ImageDataGenerator(\n",
    "    rotation_range=20.0,\n",
    "    width_shift_range=20.0,\n",
    "    height_shift_range=20.0,\n",
    "    shear_range=0.1,\n",
    "    zoom_range=.2,\n",
    "    fill_mode='nearest',\n",
    "    horizontal_flip=True,\n",
    "    vertical_flip=True,\n",
    "    validation_split=0.2\n",
    "    \n",
    ")\n",
    "\n",
    "train_generator = img_generator.flow_from_directory(\n",
    "  './asl_dataset',\n",
    "  target_size=(100,100),\n",
    "  color_mode='grayscale',\n",
    "  classes=classes,\n",
    "  class_mode='categorical',\n",
    "  seed=SEED,\n",
    "  shuffle=False,\n",
    "  subset='training'\n",
    ")\n",
    "\n",
    "val_generator = img_generator.flow_from_directory(\n",
    "  './asl_dataset',\n",
    "  target_size=(100,100),\n",
    "  color_mode='grayscale',\n",
    "  classes=classes,\n",
    "  class_mode='categorical',\n",
    "  seed=SEED,\n",
    "  shuffle=False,\n",
    "  subset='validation'\n",
    ")\n",
    "\n",
    "for i, image in enumerate(val_generator):\n",
    "  if i == 5:\n",
    "    plt.imshow(image[0][1], cmap = 'gray')\n",
    "    break\n",
    "\n"
   ]
  },
  {
   "cell_type": "code",
   "execution_count": 4,
   "metadata": {},
   "outputs": [],
   "source": [
    "def make_directories():\n",
    "    d = datetime.datetime.today()\n",
    "    timestamp = d.strftime('%Y%m%d_%H%M%S')\n",
    "    # folder to store the tensorboard logs\n",
    "    tensorlog_folder = os.path.join(os.path.curdir, 'logs', timestamp)\n",
    "    # folder to store the trained models\n",
    "    checkpoint_folder = os.path.join(os.path.curdir, 'models', timestamp)\n",
    "\n",
    "    os.mkdir(tensorlog_folder)\n",
    "    os.mkdir(checkpoint_folder)\n",
    "\n",
    "    return checkpoint_folder, tensorlog_folder"
   ]
  },
  {
   "cell_type": "code",
   "execution_count": 5,
   "metadata": {},
   "outputs": [
    {
     "name": "stdout",
     "output_type": "stream",
     "text": [
      "Model: \"Logan\"\n",
      "_________________________________________________________________\n",
      " Layer (type)                Output Shape              Param #   \n",
      "=================================================================\n",
      " input_1 (InputLayer)        [(None, 100, 100, 1)]     0         \n",
      "                                                                 \n",
      " layer1 (Conv2D)             (None, 95, 95, 64)        2368      \n",
      "                                                                 \n",
      " layer2 (Conv2D)             (None, 90, 90, 32)        73760     \n",
      "                                                                 \n",
      " layer3 (MaxPooling2D)       (None, 45, 45, 32)        0         \n",
      "                                                                 \n",
      " layer4 (Conv2D)             (None, 42, 42, 64)        32832     \n",
      "                                                                 \n",
      " layer5 (Conv2D)             (None, 39, 39, 64)        65600     \n",
      "                                                                 \n",
      " layer6 (Flatten)            (None, 97344)             0         \n",
      "                                                                 \n",
      " layer7 (Dense)              (None, 128)               12460160  \n",
      "                                                                 \n",
      " layer8 (Dense)              (None, 128)               16512     \n",
      "                                                                 \n",
      " symbol (Dense)              (None, 26)                3354      \n",
      "                                                                 \n",
      "=================================================================\n",
      "Total params: 12,654,586\n",
      "Trainable params: 12,654,586\n",
      "Non-trainable params: 0\n",
      "_________________________________________________________________\n"
     ]
    },
    {
     "name": "stderr",
     "output_type": "stream",
     "text": [
      "2022-04-10 20:56:30.714609: W tensorflow/stream_executor/platform/default/dso_loader.cc:64] Could not load dynamic library 'libcuda.so.1'; dlerror: libcuda.so.1: cannot open shared object file: No such file or directory\n",
      "2022-04-10 20:56:30.714632: W tensorflow/stream_executor/cuda/cuda_driver.cc:269] failed call to cuInit: UNKNOWN ERROR (303)\n",
      "2022-04-10 20:56:30.714649: I tensorflow/stream_executor/cuda/cuda_diagnostics.cc:156] kernel driver does not appear to be running on this host (logan-All-Series): /proc/driver/nvidia/version does not exist\n",
      "2022-04-10 20:56:30.715872: I tensorflow/core/platform/cpu_feature_guard.cc:151] This TensorFlow binary is optimized with oneAPI Deep Neural Network Library (oneDNN) to use the following CPU instructions in performance-critical operations:  AVX2 FMA\n",
      "To enable them in other operations, rebuild TensorFlow with the appropriate compiler flags.\n"
     ]
    },
    {
     "name": "stdout",
     "output_type": "stream",
     "text": [
      "None\n",
      "Epoch 1/25\n",
      "46/46 [==============================] - ETA: 0s - loss: 12.8548 - top_k_categorical_accuracy: 0.0944 - accuracy: 0.0055"
     ]
    },
    {
     "name": "stderr",
     "output_type": "stream",
     "text": [
      "2022-04-10 20:58:04.277150: W tensorflow/python/util/util.cc:368] Sets are not currently considered sequences, but this may change in the future, so consider avoiding using them.\n"
     ]
    },
    {
     "name": "stdout",
     "output_type": "stream",
     "text": [
      "INFO:tensorflow:Assets written to: ./models/20220410_205630/assets\n",
      "46/46 [==============================] - 93s 2s/step - loss: 12.8548 - top_k_categorical_accuracy: 0.0944 - accuracy: 0.0055 - val_loss: 3.2427 - val_top_k_categorical_accuracy: 0.2204 - val_accuracy: 0.0248 - lr: 0.0010\n",
      "Epoch 2/25\n",
      "46/46 [==============================] - ETA: 0s - loss: 3.2928 - top_k_categorical_accuracy: 0.1674 - accuracy: 0.0145INFO:tensorflow:Assets written to: ./models/20220410_205630/assets\n",
      "46/46 [==============================] - 89s 2s/step - loss: 3.2928 - top_k_categorical_accuracy: 0.1674 - accuracy: 0.0145 - val_loss: 3.2176 - val_top_k_categorical_accuracy: 0.2810 - val_accuracy: 0.0551 - lr: 0.0010\n",
      "Epoch 3/25\n",
      "46/46 [==============================] - ETA: 0s - loss: 3.2435 - top_k_categorical_accuracy: 0.1887 - accuracy: 0.0324INFO:tensorflow:Assets written to: ./models/20220410_205630/assets\n",
      "46/46 [==============================] - 88s 2s/step - loss: 3.2435 - top_k_categorical_accuracy: 0.1887 - accuracy: 0.0324 - val_loss: 3.1672 - val_top_k_categorical_accuracy: 0.3196 - val_accuracy: 0.0689 - lr: 0.0010\n",
      "Epoch 4/25\n",
      "46/46 [==============================] - ETA: 0s - loss: 3.6127 - top_k_categorical_accuracy: 0.2466 - accuracy: 0.0337INFO:tensorflow:Assets written to: ./models/20220410_205630/assets\n",
      "46/46 [==============================] - 91s 2s/step - loss: 3.6127 - top_k_categorical_accuracy: 0.2466 - accuracy: 0.0337 - val_loss: 3.1417 - val_top_k_categorical_accuracy: 0.3003 - val_accuracy: 0.0689 - lr: 0.0010\n",
      "Epoch 5/25\n",
      "46/46 [==============================] - ETA: 0s - loss: 3.1622 - top_k_categorical_accuracy: 0.2410 - accuracy: 0.0227INFO:tensorflow:Assets written to: ./models/20220410_205630/assets\n",
      "46/46 [==============================] - 89s 2s/step - loss: 3.1622 - top_k_categorical_accuracy: 0.2410 - accuracy: 0.0227 - val_loss: 3.1103 - val_top_k_categorical_accuracy: 0.3471 - val_accuracy: 0.0854 - lr: 0.0010\n",
      "Epoch 6/25\n",
      "46/46 [==============================] - ETA: 0s - loss: 6.4911 - top_k_categorical_accuracy: 0.2583 - accuracy: 0.0482INFO:tensorflow:Assets written to: ./models/20220410_205630/assets\n",
      "46/46 [==============================] - 89s 2s/step - loss: 6.4911 - top_k_categorical_accuracy: 0.2583 - accuracy: 0.0482 - val_loss: 3.0830 - val_top_k_categorical_accuracy: 0.3526 - val_accuracy: 0.0799 - lr: 0.0010\n",
      "Epoch 7/25\n",
      "46/46 [==============================] - 88s 2s/step - loss: 3.1216 - top_k_categorical_accuracy: 0.2989 - accuracy: 0.0510 - val_loss: 3.0911 - val_top_k_categorical_accuracy: 0.3444 - val_accuracy: 0.0689 - lr: 0.0010\n",
      "Epoch 8/25\n",
      "46/46 [==============================] - ETA: 0s - loss: 8.4417 - top_k_categorical_accuracy: 0.2920 - accuracy: 0.0455INFO:tensorflow:Assets written to: ./models/20220410_205630/assets\n",
      "46/46 [==============================] - 89s 2s/step - loss: 8.4417 - top_k_categorical_accuracy: 0.2920 - accuracy: 0.0455 - val_loss: 3.0755 - val_top_k_categorical_accuracy: 0.3333 - val_accuracy: 0.0661 - lr: 0.0010\n",
      "Epoch 9/25\n",
      "46/46 [==============================] - ETA: 0s - loss: 3.0974 - top_k_categorical_accuracy: 0.3168 - accuracy: 0.0572INFO:tensorflow:Assets written to: ./models/20220410_205630/assets\n",
      "46/46 [==============================] - 90s 2s/step - loss: 3.0974 - top_k_categorical_accuracy: 0.3168 - accuracy: 0.0572 - val_loss: 3.0209 - val_top_k_categorical_accuracy: 0.3857 - val_accuracy: 0.0937 - lr: 0.0010\n",
      "Epoch 10/25\n",
      "46/46 [==============================] - 90s 2s/step - loss: 3.1213 - top_k_categorical_accuracy: 0.3189 - accuracy: 0.0585 - val_loss: 3.0626 - val_top_k_categorical_accuracy: 0.3581 - val_accuracy: 0.0744 - lr: 0.0010\n",
      "Epoch 11/25\n",
      "46/46 [==============================] - ETA: 0s - loss: 3.1253 - top_k_categorical_accuracy: 0.3092 - accuracy: 0.0558INFO:tensorflow:Assets written to: ./models/20220410_205630/assets\n",
      "46/46 [==============================] - 89s 2s/step - loss: 3.1253 - top_k_categorical_accuracy: 0.3092 - accuracy: 0.0558 - val_loss: 2.9815 - val_top_k_categorical_accuracy: 0.3802 - val_accuracy: 0.0882 - lr: 0.0010\n",
      "Epoch 12/25\n",
      "46/46 [==============================] - 88s 2s/step - loss: 3.1028 - top_k_categorical_accuracy: 0.3113 - accuracy: 0.0675 - val_loss: 3.0292 - val_top_k_categorical_accuracy: 0.3609 - val_accuracy: 0.0882 - lr: 0.0010\n",
      "Epoch 13/25\n",
      "46/46 [==============================] - 88s 2s/step - loss: 3.0915 - top_k_categorical_accuracy: 0.2996 - accuracy: 0.0510 - val_loss: 3.0313 - val_top_k_categorical_accuracy: 0.3499 - val_accuracy: 0.0992 - lr: 0.0010\n",
      "Epoch 14/25\n",
      "46/46 [==============================] - ETA: 0s - loss: 3.0631 - top_k_categorical_accuracy: 0.3154 - accuracy: 0.0496INFO:tensorflow:Assets written to: ./models/20220410_205630/assets\n",
      "46/46 [==============================] - 89s 2s/step - loss: 3.0631 - top_k_categorical_accuracy: 0.3154 - accuracy: 0.0496 - val_loss: 2.9452 - val_top_k_categorical_accuracy: 0.4132 - val_accuracy: 0.0744 - lr: 0.0010\n",
      "Epoch 15/25\n",
      "46/46 [==============================] - ETA: 0s - loss: 3.0506 - top_k_categorical_accuracy: 0.3375 - accuracy: 0.0654INFO:tensorflow:Assets written to: ./models/20220410_205630/assets\n",
      "46/46 [==============================] - 92s 2s/step - loss: 3.0506 - top_k_categorical_accuracy: 0.3375 - accuracy: 0.0654 - val_loss: 2.9234 - val_top_k_categorical_accuracy: 0.3939 - val_accuracy: 0.0854 - lr: 0.0010\n",
      "Epoch 16/25\n",
      "46/46 [==============================] - 88s 2s/step - loss: 3.1268 - top_k_categorical_accuracy: 0.3065 - accuracy: 0.0517 - val_loss: 2.9681 - val_top_k_categorical_accuracy: 0.3884 - val_accuracy: 0.0937 - lr: 0.0010\n",
      "Epoch 17/25\n",
      "46/46 [==============================] - ETA: 0s - loss: 3.0206 - top_k_categorical_accuracy: 0.3595 - accuracy: 0.0682INFO:tensorflow:Assets written to: ./models/20220410_205630/assets\n",
      "46/46 [==============================] - 90s 2s/step - loss: 3.0206 - top_k_categorical_accuracy: 0.3595 - accuracy: 0.0682 - val_loss: 2.8810 - val_top_k_categorical_accuracy: 0.4325 - val_accuracy: 0.0964 - lr: 0.0010\n",
      "Epoch 18/25\n",
      "46/46 [==============================] - 89s 2s/step - loss: 2.9664 - top_k_categorical_accuracy: 0.3919 - accuracy: 0.0599 - val_loss: 2.8873 - val_top_k_categorical_accuracy: 0.4325 - val_accuracy: 0.0882 - lr: 0.0010\n",
      "Epoch 19/25\n",
      "46/46 [==============================] - 87s 2s/step - loss: 2.9491 - top_k_categorical_accuracy: 0.3574 - accuracy: 0.0806 - val_loss: 2.9073 - val_top_k_categorical_accuracy: 0.4022 - val_accuracy: 0.1102 - lr: 0.0010\n",
      "Epoch 20/25\n",
      "46/46 [==============================] - ETA: 0s - loss: 2.9739 - top_k_categorical_accuracy: 0.3843 - accuracy: 0.0792INFO:tensorflow:Assets written to: ./models/20220410_205630/assets\n",
      "46/46 [==============================] - 89s 2s/step - loss: 2.9739 - top_k_categorical_accuracy: 0.3843 - accuracy: 0.0792 - val_loss: 2.8809 - val_top_k_categorical_accuracy: 0.4325 - val_accuracy: 0.0937 - lr: 0.0010\n",
      "Epoch 21/25\n",
      "46/46 [==============================] - ETA: 0s - loss: 2.8798 - top_k_categorical_accuracy: 0.3994 - accuracy: 0.1019INFO:tensorflow:Assets written to: ./models/20220410_205630/assets\n",
      "46/46 [==============================] - 89s 2s/step - loss: 2.8798 - top_k_categorical_accuracy: 0.3994 - accuracy: 0.1019 - val_loss: 2.7885 - val_top_k_categorical_accuracy: 0.4683 - val_accuracy: 0.1377 - lr: 0.0010\n",
      "Epoch 22/25\n",
      "46/46 [==============================] - ETA: 0s - loss: 2.8894 - top_k_categorical_accuracy: 0.4208 - accuracy: 0.0978INFO:tensorflow:Assets written to: ./models/20220410_205630/assets\n",
      "46/46 [==============================] - 89s 2s/step - loss: 2.8894 - top_k_categorical_accuracy: 0.4208 - accuracy: 0.0978 - val_loss: 2.7153 - val_top_k_categorical_accuracy: 0.4904 - val_accuracy: 0.1074 - lr: 0.0010\n",
      "Epoch 23/25\n",
      "46/46 [==============================] - ETA: 0s - loss: 2.9010 - top_k_categorical_accuracy: 0.4242 - accuracy: 0.0854INFO:tensorflow:Assets written to: ./models/20220410_205630/assets\n",
      "46/46 [==============================] - 89s 2s/step - loss: 2.9010 - top_k_categorical_accuracy: 0.4242 - accuracy: 0.0854 - val_loss: 2.6999 - val_top_k_categorical_accuracy: 0.5124 - val_accuracy: 0.1818 - lr: 0.0010\n",
      "Epoch 24/25\n",
      "46/46 [==============================] - ETA: 0s - loss: 2.9614 - top_k_categorical_accuracy: 0.4621 - accuracy: 0.0833INFO:tensorflow:Assets written to: ./models/20220410_205630/assets\n",
      "46/46 [==============================] - 88s 2s/step - loss: 2.9614 - top_k_categorical_accuracy: 0.4621 - accuracy: 0.0833 - val_loss: 2.6305 - val_top_k_categorical_accuracy: 0.5675 - val_accuracy: 0.1708 - lr: 0.0010\n",
      "Epoch 25/25\n",
      "46/46 [==============================] - 87s 2s/step - loss: 2.9490 - top_k_categorical_accuracy: 0.4408 - accuracy: 0.1150 - val_loss: 2.6767 - val_top_k_categorical_accuracy: 0.5179 - val_accuracy: 0.1515 - lr: 0.0010\n"
     ]
    },
    {
     "data": {
      "text/plain": [
       "<keras.callbacks.History at 0x7ff564c69940>"
      ]
     },
     "execution_count": 5,
     "metadata": {},
     "output_type": "execute_result"
    }
   ],
   "source": [
    "check_dir, tboard_dir = make_directories()\n",
    "\n",
    "input = keras.Input(shape=(100, 100, 1))\n",
    "layer1 = tf.keras.layers.Conv2D(64, (6,6), activation= 'relu', name=\"layer1\")\n",
    "layer2 = tf.keras.layers.Conv2D(32, (6,6), activation= 'relu', name=\"layer2\")\n",
    "layer3 = tf.keras.layers.MaxPool2D((2,2), name=\"layer3\")\n",
    "layer4 = tf.keras.layers.Conv2D(64, (4,4), activation= 'relu', name=\"layer4\")\n",
    "layer5 = tf.keras.layers.Conv2D(64, (4,4), activation= 'relu', name=\"layer5\")\n",
    "layer6 = tf.keras.layers.Flatten(name=\"layer6\")\n",
    "layer7 = tf.keras.layers.Dense(128, activation='relu', name='layer7')\n",
    "layer8 = tf.keras.layers.Dense(128, activation='relu', name='layer8')\n",
    "# layer6 = tf.keras.layers.Dense(128, activation='relu', name='layer6')\n",
    "\n",
    "output =  tf.keras.layers.Dense(len(classes), activation='softmax', name='symbol')\n",
    "\n",
    "network = output(layer8(layer7(layer6(layer5(layer4(layer3(layer2(layer1(input)))))))))\n",
    "\n",
    "optimizer = tf.keras.optimizers.RMSprop(learning_rate=0.001)\n",
    "\n",
    "model = tf.keras.Model(inputs=input, outputs=network, name=\"Logan\")\n",
    "\n",
    "\n",
    "model.compile(optimizer=optimizer,\n",
    "              loss=tf.keras.losses.CategoricalCrossentropy(),\n",
    "              # loss_weights=[0.1],\n",
    "              metrics=[tf.keras.metrics.top_k_categorical_accuracy, 'accuracy'],\n",
    "              )\n",
    "\n",
    "\n",
    "early_stop = keras.callbacks.EarlyStopping(\n",
    "    monitor='val_loss',\n",
    "    patience=5,\n",
    "    restore_best_weights=True\n",
    ")\n",
    "checkpoints = keras.callbacks.ModelCheckpoint(\n",
    "    filepath=check_dir,\n",
    "    monitor='val_loss',\n",
    "    save_best_only=True,\n",
    "    save_weights_only=False\n",
    ")\n",
    "tensorboard = keras.callbacks.TensorBoard(\n",
    "    log_dir=tboard_dir\n",
    ")\n",
    "reduce_lr = keras.callbacks.ReduceLROnPlateau(\n",
    "    monitor='val_loss',\n",
    "    factor=0.1,\n",
    "    patience=5,\n",
    "    min_lr=1e-5,\n",
    "    verbose=1\n",
    ")\n",
    "\n",
    "callbacks = [checkpoints, tensorboard, reduce_lr]\n",
    "\n",
    "# fit the model with training and validation generators\n",
    "# In addition please specify the following arguments\n",
    "# steps_per_epoch=len(df_train)/batch_size\n",
    "# validation_steps=len(df_val)/batch_size\n",
    "# (5)\n",
    "print(model.summary())\n",
    "tf.keras.utils.plot_model(\n",
    "    model,\n",
    "    show_shapes=True,\n",
    "    show_dtype=False,\n",
    "    show_layer_names=True,\n",
    "    rankdir=\"TB\",\n",
    "    expand_nested=False,\n",
    "    dpi=96,\n",
    "    layer_range=None,\n",
    "    show_layer_activations=False)\n",
    "model.fit(\n",
    "        train_generator,\n",
    "        epochs=25,\n",
    "        validation_data=val_generator,\n",
    "        batch_size=8, \n",
    "        callbacks=callbacks,\n",
    "        # steps_per_epoch=len(train)/batch_size,\n",
    "        # validation_steps=len(val)/batch_size\n",
    "        )\n",
    "\n",
    "\n"
   ]
  }
 ],
 "metadata": {
  "interpreter": {
   "hash": "367e97bd1bb993270875333a5c0c0ed703268d8b20e00e99d22f213f8fc7c5a0"
  },
  "kernelspec": {
   "display_name": "Python 3.8.12 ('csi4106')",
   "language": "python",
   "name": "python3"
  },
  "language_info": {
   "codemirror_mode": {
    "name": "ipython",
    "version": 3
   },
   "file_extension": ".py",
   "mimetype": "text/x-python",
   "name": "python",
   "nbconvert_exporter": "python",
   "pygments_lexer": "ipython3",
   "version": "3.8.12"
  },
  "orig_nbformat": 4
 },
 "nbformat": 4,
 "nbformat_minor": 2
}
