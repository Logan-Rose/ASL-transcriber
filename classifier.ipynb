{
 "cells": [
  {
   "cell_type": "code",
   "execution_count": 57,
   "metadata": {},
   "outputs": [],
   "source": [
    "import numpy as np\n",
    "import pandas as pd\n",
    "import matplotlib.pyplot as plt\n",
    "import os\n",
    "import glob\n",
    "import skimage\n",
    "from skimage import io\n",
    "from skimage.transform import rescale, resize, downscale_local_mean\n",
    "from sklearn.preprocessing import StandardScaler, MinMaxScaler\n",
    "from sklearn.model_selection import StratifiedShuffleSplit, GridSearchCV, train_test_split\n",
    "from sklearn.svm import SVC\n",
    "from sklearn.neural_network import MLPClassifier\n",
    "from sklearn.metrics import classification_report\n",
    "\n",
    "np.random.seed(42)"
   ]
  },
  {
   "cell_type": "code",
   "execution_count": 2,
   "metadata": {},
   "outputs": [],
   "source": [
    "dataset_path = './asl_dataset'\n",
    "class_names = [\n",
    "  '0','1','2','3','4','5','6',\n",
    "  '7','8','9','a','b','c','d',\n",
    "  'e','f','g','h','i','j','k',\n",
    "  'l','m','n','o','p','q','r',\n",
    "  's','t','u','v','w','x','y',\n",
    "  'z'\n",
    "]\n",
    "# Loading and preprocessing Image Data https://www.section.io/engineering-education/image-preprocessing-in-python/#:~:text=In%20this%20tutorial%2C%20we%20shall,used%20to%20preprocess%20image%20data.\n",
    "dataPaths = []\n",
    "for i in range(len(class_names)):\n",
    "  path = os.path.join(dataset_path, class_names[i], '*')\n",
    "  path = glob.glob(path)\n",
    "  dataPaths.append(path)\n",
    "\n",
    "\n",
    "# Merging Dataframes: https://www.stackvidhya.com/add-row-to-dataframe/\n",
    "df = pd.DataFrame()\n",
    "for i in range(len(dataPaths)):\n",
    "  current_df = pd.DataFrame({\"path\": dataPaths[i], \"category\": class_names[i]})\n",
    "  df = pd.concat([df, current_df], ignore_index=True, axis=0)\n",
    "df.to_csv(f'./temp/categorized.csv')\n"
   ]
  },
  {
   "cell_type": "code",
   "execution_count": 25,
   "metadata": {},
   "outputs": [
    {
     "name": "stdout",
     "output_type": "stream",
     "text": [
      "40\n"
     ]
    },
    {
     "data": {
      "image/png": "[encoded data removed]",
      "text/plain": [
       "<Figure size 432x288 with 1 Axes>"
      ]
     },
     "metadata": {
      "needs_background": "light"
     },
     "output_type": "display_data"
    }
   ],
   "source": [
    "# gray_image = skimage.color.rgb2gray(io.imread(df['path'][200]))\n",
    "# Starting with downscaled image\n",
    "gray_image = rescale(skimage.color.rgb2gray(io.imread(df['path'][200])), 0.1)\n",
    "plt.imshow(gray_image, cmap = 'gray')\n",
    "pixels = gray_image.shape[0] * gray_image.shape[1]\n"
   ]
  },
  {
   "cell_type": "code",
   "execution_count": 7,
   "metadata": {},
   "outputs": [
    {
     "name": "stdout",
     "output_type": "stream",
     "text": [
      "0\n",
      "1\n",
      "2\n",
      "3\n",
      "4\n",
      "5\n",
      "6\n",
      "7\n",
      "8\n",
      "9\n",
      "a\n",
      "b\n",
      "c\n",
      "d\n",
      "e\n",
      "f\n",
      "g\n",
      "h\n",
      "i\n",
      "j\n",
      "k\n",
      "l\n",
      "m\n",
      "n\n",
      "o\n",
      "p\n",
      "q\n",
      "r\n",
      "s\n",
      "t\n",
      "u\n",
      "v\n",
      "w\n",
      "x\n",
      "y\n",
      "z\n"
     ]
    }
   ],
   "source": [
    "column_names = []\n",
    "[column_names.append(\"p\"+str(x)) for x in range(0,pixels)] # shape (785,0)\n",
    "column_names.append(\"category\")\n",
    "numberized_df = pd.DataFrame(columns=column_names)\n",
    "for i in range(len(class_names)):\n",
    "  print(class_names[i])\n",
    "  for j in range(len(dataPaths[i])):\n",
    "    image = io.imread(dataPaths[i][j])\n",
    "    gray_image = rescale(skimage.color.rgb2gray(image), 0.1)\n",
    "    numberized_image = gray_image.flatten()\n",
    "    numberized_image = np.append(numberized_image, i)\n",
    "    numberized_image_df = pd.DataFrame(columns=column_names)\n",
    "    numberized_image_df.loc[0] = numberized_image\n",
    "    numberized_df = pd.concat([numberized_df,numberized_image_df], ignore_index=True)"
   ]
  },
  {
   "cell_type": "code",
   "execution_count": 17,
   "metadata": {},
   "outputs": [
    {
     "name": "stdout",
     "output_type": "stream",
     "text": [
      "(2263, 1600)\n",
      "(252, 1600)\n"
     ]
    }
   ],
   "source": [
    "split = StratifiedShuffleSplit(n_splits=1, test_size=0.1, random_state=42)\n",
    "for train_index, test_index in split.split(numberized_df, numberized_df['category']):\n",
    "    train_set = numberized_df.loc[train_index]\n",
    "    test_set = numberized_df.loc[test_index]\n",
    "\n",
    "train_data = train_set.drop(\"category\", axis=1) \n",
    "train_labels = train_set[\"category\"].copy().to_numpy().astype('int')\n",
    "print(train_data.shape)\n",
    "\n",
    "test_data = test_set.drop(\"category\", axis=1) \n",
    "test_labels = test_set[\"category\"].copy().to_numpy().astype('int')\n",
    "print(test_data.shape)"
   ]
  },
  {
   "cell_type": "code",
   "execution_count": 18,
   "metadata": {},
   "outputs": [
    {
     "name": "stdout",
     "output_type": "stream",
     "text": [
      "1.0\n",
      "0.0\n"
     ]
    }
   ],
   "source": [
    "# I THINK IT IS ALSREADY SCALED BETWEEN ! AND ) BUT JUST TO BE SAFE !!\n",
    "\n",
    "# REVISIT LATER\n",
    "\n",
    "scaler = MinMaxScaler()\n",
    "\n",
    "train_scaled = scaler.fit_transform(train_data.values)\n",
    "\n",
    "scaled_df = pd.DataFrame(train_scaled, index=train_set.index, columns=train_data.columns)\n",
    "\n",
    "print(np.max(scaled_df.p1.to_numpy()))\n",
    "print(np.min(scaled_df.p1.to_numpy()))"
   ]
  },
  {
   "cell_type": "code",
   "execution_count": 19,
   "metadata": {},
   "outputs": [
    {
     "data": {
      "text/plain": [
       "GridSearchCV(estimator=SVC(probability=True, random_state=42),\n",
       "             param_grid=[{'C': [10, 100], 'gamma': [0.001, 0.0001],\n",
       "                          'kernel': ['linear', 'rbf']}])"
      ]
     },
     "execution_count": 19,
     "metadata": {},
     "output_type": "execute_result"
    }
   ],
   "source": [
    "model = SVC(random_state=42, probability=True)\n",
    "\n",
    "# specify the parameter combinations to be tested\n",
    "parameters = [\n",
    "    {'C': [10, 100], 'gamma': [0.001, 0.0001], 'kernel': ['linear', 'rbf']}\n",
    "]\n",
    "grid_search = GridSearchCV(model, parameters)#, cv=10, return_train_score=True, n_jobs=-1)\n",
    "grid_search.fit(train_scaled, train_labels)\n",
    "\n"
   ]
  },
  {
   "cell_type": "code",
   "execution_count": 60,
   "metadata": {},
   "outputs": [
    {
     "data": {
      "text/plain": [
       "MLPClassifier(hidden_layer_sizes=(150, 100, 50), max_iter=300, random_state=1)"
      ]
     },
     "execution_count": 60,
     "metadata": {},
     "output_type": "execute_result"
    }
   ],
   "source": [
    "\n",
    "# specify the parameter combinations to be tested\n",
    "\n",
    "clf = MLPClassifier(hidden_layer_sizes=(150,100,50), max_iter=300,activation = 'relu',solver='adam',random_state=1)\n",
    "clf.fit(train_scaled, train_labels)"
   ]
  },
  {
   "cell_type": "code",
   "execution_count": 72,
   "metadata": {},
   "outputs": [
    {
     "name": "stdout",
     "output_type": "stream",
     "text": [
      "              precision    recall  f1-score   support\n",
      "\n",
      "           0       1.00      0.86      0.92         7\n",
      "           1       1.00      1.00      1.00         7\n",
      "           2       1.00      0.86      0.92         7\n",
      "           3       1.00      1.00      1.00         7\n",
      "           4       1.00      1.00      1.00         7\n",
      "           5       1.00      1.00      1.00         7\n",
      "           6       1.00      0.71      0.83         7\n",
      "           7       1.00      1.00      1.00         7\n",
      "           8       1.00      1.00      1.00         7\n",
      "           9       1.00      1.00      1.00         7\n",
      "          10       1.00      1.00      1.00         7\n",
      "          11       1.00      1.00      1.00         7\n",
      "          12       1.00      1.00      1.00         7\n",
      "          13       1.00      1.00      1.00         7\n",
      "          14       1.00      1.00      1.00         7\n",
      "          15       1.00      1.00      1.00         7\n",
      "          16       1.00      1.00      1.00         7\n",
      "          17       1.00      1.00      1.00         7\n",
      "          18       1.00      1.00      1.00         7\n",
      "          19       1.00      1.00      1.00         7\n",
      "          20       1.00      1.00      1.00         7\n",
      "          21       1.00      1.00      1.00         7\n",
      "          22       1.00      1.00      1.00         7\n",
      "          23       1.00      1.00      1.00         7\n",
      "          24       0.88      1.00      0.93         7\n",
      "          25       1.00      1.00      1.00         7\n",
      "          26       1.00      1.00      1.00         7\n",
      "          27       0.78      1.00      0.88         7\n",
      "          28       1.00      1.00      1.00         7\n",
      "          29       1.00      1.00      1.00         7\n",
      "          30       1.00      0.86      0.92         7\n",
      "          31       1.00      1.00      1.00         7\n",
      "          32       0.78      1.00      0.88         7\n",
      "          33       1.00      1.00      1.00         7\n",
      "          34       1.00      1.00      1.00         7\n",
      "          35       1.00      1.00      1.00         7\n",
      "\n",
      "    accuracy                           0.98       252\n",
      "   macro avg       0.98      0.98      0.98       252\n",
      "weighted avg       0.98      0.98      0.98       252\n",
      "\n"
     ]
    }
   ],
   "source": [
    "test_scaled = scaler.transform(test_data.values)\n",
    "test_predictions = grid_search.best_estimator_.predict(test_data.values)\n",
    "cls_report_test = classification_report(test_labels, test_predictions)\n",
    "print(cls_report_test)"
   ]
  },
  {
   "cell_type": "markdown",
   "metadata": {},
   "source": [
    "# User Testing\n",
    "After training the model, I decided to use an actual picture of my own to see if I can get the right output"
   ]
  },
  {
   "cell_type": "code",
   "execution_count": 69,
   "metadata": {},
   "outputs": [
    {
     "name": "stderr",
     "output_type": "stream",
     "text": [
      "<ipython-input-69-d56fe312a531>:3: FutureWarning: Non RGB image conversion is now deprecated. For RGBA images, please use rgb2gray(rgba2rgb(rgb)) instead. In version 0.19, a ValueError will be raised if input image last dimension length is not 3.\n",
      "  gray_image = resize(skimage.color.rgb2gray(io.imread('./Untitled.png')), (40,40))\n",
      "C:\\ProgramData\\Anaconda3\\lib\\site-packages\\sklearn\\base.py:443: UserWarning: X has feature names, but SVC was fitted without feature names\n",
      "  warnings.warn(\n",
      "C:\\ProgramData\\Anaconda3\\lib\\site-packages\\sklearn\\base.py:443: UserWarning: X has feature names, but MLPClassifier was fitted without feature names\n",
      "  warnings.warn(\n"
     ]
    },
    {
     "name": "stdout",
     "output_type": "stream",
     "text": [
      "a\n",
      "a\n"
     ]
    },
    {
     "data": {
      "image/png": "[encoded data removed]",
      "text/plain": [
       "<Figure size 432x288 with 1 Axes>"
      ]
     },
     "metadata": {
      "needs_background": "light"
     },
     "output_type": "display_data"
    }
   ],
   "source": [
    "\n",
    "tmp = io.imread('./Untitled.png')\n",
    "\n",
    "gray_image = resize(skimage.color.rgb2gray(io.imread('./Untitled.png')), (40,40))\n",
    "numberized_image = gray_image.flatten()\n",
    "\n",
    "column_names = []\n",
    "[column_names.append(\"p\"+str(x)) for x in range(0,len(numberized_image))] # shape (785,0)\n",
    "numberized_df = pd.DataFrame(columns=column_names)\n",
    "\n",
    "numberized_df = pd.DataFrame(columns=column_names)\n",
    "numberized_image_df = pd.DataFrame(columns=column_names)\n",
    "numberized_image_df.loc[0] = numberized_image\n",
    "\n",
    "plt.imshow(gray_image, cmap = 'gray')\n",
    "\n",
    "predictions = grid_search.predict_proba(numberized_image_df)[0]\n",
    "\n",
    "print(class_names[predictions.argmax(axis=0)])\n",
    "\n",
    "MLP_predictions = clf.predict_proba(numberized_image_df)[0]\n",
    "\n",
    "print(class_names[MLP_predictions.argmax(axis=0)])\n"
   ]
  }
 ],
 "metadata": {
  "interpreter": {
   "hash": "367e97bd1bb993270875333a5c0c0ed703268d8b20e00e99d22f213f8fc7c5a0"
  },
  "kernelspec": {
   "display_name": "csi4106",
   "language": "python",
   "name": "csi4106"
  },
  "language_info": {
   "codemirror_mode": {
    "name": "ipython",
    "version": 3
   },
   "file_extension": ".py",
   "mimetype": "text/x-python",
   "name": "python",
   "nbconvert_exporter": "python",
   "pygments_lexer": "ipython3",
   "version": "3.9.7"
  },
  "orig_nbformat": 4
 },
 "nbformat": 4,
 "nbformat_minor": 2
}
