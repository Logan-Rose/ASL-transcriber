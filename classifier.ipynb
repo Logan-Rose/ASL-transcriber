{
 "cells": [
  {
   "cell_type": "code",
   "execution_count": 8,
   "metadata": {},
   "outputs": [],
   "source": [
    "import numpy as np\n",
    "import pandas as pd\n",
    "import matplotlib.pyplot as plt\n",
    "import os\n",
    "import glob\n",
    "import skimage\n",
    "from skimage import io\n",
    "from skimage.transform import rescale, resize, downscale_local_mean\n",
    "from sklearn.preprocessing import StandardScaler, MinMaxScaler\n",
    "from sklearn.model_selection import StratifiedShuffleSplit, GridSearchCV, train_test_split\n",
    "from sklearn.svm import SVC\n",
    "from sklearn.metrics import classification_report\n",
    "\n",
    "np.random.seed(42)"
   ]
  },
  {
   "cell_type": "code",
   "execution_count": 9,
   "metadata": {},
   "outputs": [],
   "source": [
    "dataset_path = './asl_dataset'\n",
    "class_names = [\n",
    "  '0','1','2','3','4','5','6',\n",
    "  '7','8','9','a','b','c','d',\n",
    "  'e','f','g','h','i','j','k',\n",
    "  'l','m','n','o','p','q','r',\n",
    "  's','t','u','v','w','x','y',\n",
    "  'z'\n",
    "]\n",
    "# Loading and preprocessing Image Data https://www.section.io/engineering-education/image-preprocessing-in-python/#:~:text=In%20this%20tutorial%2C%20we%20shall,used%20to%20preprocess%20image%20data.\n",
    "dataPaths = []\n",
    "for i in range(len(class_names)):\n",
    "  path = os.path.join(dataset_path, class_names[i], '*')\n",
    "  path = glob.glob(path)\n",
    "  dataPaths.append(path)\n",
    "\n",
    "\n",
    "# Merging Dataframes: https://www.stackvidhya.com/add-row-to-dataframe/\n",
    "df = pd.DataFrame()\n",
    "for i in range(len(dataPaths)):\n",
    "  current_df = pd.DataFrame({\"path\": dataPaths[i], \"category\": class_names[i]})\n",
    "  df = pd.concat([df, current_df], ignore_index=True, axis=0)\n",
    "df.to_csv(f'./temp/categorized.csv')\n"
   ]
  },
  {
   "cell_type": "code",
   "execution_count": 85,
   "metadata": {},
   "outputs": [
    {
     "name": "stdout",
     "output_type": "stream",
     "text": [
      "40 40\n"
     ]
    },
    {
     "data": {
      "image/png": "[encoded data removed]",
      "text/plain": [
       "<Figure size 432x288 with 1 Axes>"
      ]
     },
     "metadata": {
      "needs_background": "light"
     },
     "output_type": "display_data"
    }
   ],
   "source": [
    "# gray_image = skimage.color.rgb2gray(io.imread(df['path'][200]))\n",
    "# Starting with downscaled image\n",
    "gray_image = rescale(skimage.color.rgb2gray(io.imread(df['path'][200])), 0.1)\n",
    "plt.imshow(gray_image, cmap = 'gray')\n",
    "pixels = gray_image.shape[0] * gray_image.shape[1]\n"
   ]
  },
  {
   "cell_type": "code",
   "execution_count": 27,
   "metadata": {},
   "outputs": [
    {
     "name": "stdout",
     "output_type": "stream",
     "text": [
      "0\n",
      "1\n",
      "2\n",
      "3\n",
      "4\n",
      "5\n",
      "6\n",
      "7\n",
      "8\n",
      "9\n",
      "a\n",
      "b\n",
      "c\n",
      "d\n",
      "e\n",
      "f\n",
      "g\n",
      "h\n",
      "i\n",
      "j\n",
      "k\n",
      "l\n",
      "m\n",
      "n\n",
      "o\n",
      "p\n",
      "q\n",
      "r\n",
      "s\n",
      "t\n",
      "u\n",
      "v\n",
      "w\n",
      "x\n",
      "y\n",
      "z\n"
     ]
    }
   ],
   "source": [
    "column_names = []\n",
    "[column_names.append(\"p\"+str(x)) for x in range(0,pixels)] # shape (785,0)\n",
    "column_names.append(\"category\")\n",
    "numberized_df = pd.DataFrame(columns=column_names)\n",
    "for i in range(len(class_names)):\n",
    "  print(class_names[i])\n",
    "  for j in range(len(dataPaths[i])):\n",
    "    image = io.imread(dataPaths[i][j])\n",
    "    gray_image = rescale(skimage.color.rgb2gray(image), 0.1)\n",
    "    numberized_image = gray_image.flatten()\n",
    "    numberized_image = np.append(numberized_image, i)\n",
    "    numberized_image_df = pd.DataFrame(columns=column_names)\n",
    "    numberized_image_df.loc[0] = numberized_image\n",
    "    numberized_df = pd.concat([numberized_df,numberized_image_df], ignore_index=True)"
   ]
  },
  {
   "cell_type": "code",
   "execution_count": 69,
   "metadata": {},
   "outputs": [
    {
     "name": "stdout",
     "output_type": "stream",
     "text": [
      "[14 24 20 ... 30 22 35]\n",
      "(755, 1600)\n"
     ]
    }
   ],
   "source": [
    "split = StratifiedShuffleSplit(n_splits=1, test_size=0.3, random_state=42)\n",
    "for train_index, test_index in split.split(numberized_df, numberized_df['category']):\n",
    "    train_set = numberized_df.loc[train_index]\n",
    "    test_set = numberized_df.loc[test_index]\n",
    "\n",
    "train_data = train_set.drop(\"category\", axis=1) \n",
    "train_labels = train_set[\"category\"].copy().to_numpy().astype('int')\n",
    "print(train_labels)\n",
    "\n",
    "test_data = test_set.drop(\"category\", axis=1) \n",
    "test_labels = test_set[\"category\"].copy().to_numpy().astype('int')\n",
    "print(test_data.shape)"
   ]
  },
  {
   "cell_type": "code",
   "execution_count": 64,
   "metadata": {},
   "outputs": [
    {
     "name": "stdout",
     "output_type": "stream",
     "text": [
      "1.0\n",
      "0.0\n"
     ]
    }
   ],
   "source": [
    "# I THINK IT IS ALSREADY SCALED BETWEEN ! AND ) BUT JUST TO BE SAFE !!\n",
    "\n",
    "# REVISIT LATER\n",
    "\n",
    "scaler = MinMaxScaler()\n",
    "\n",
    "train_scaled = scaler.fit_transform(train_data.values)\n",
    "\n",
    "scaled_df = pd.DataFrame(train_scaled, index=train_set.index, columns=train_data.columns)\n",
    "\n",
    "print(np.max(scaled_df.p1.to_numpy()))\n",
    "print(np.min(scaled_df.p1.to_numpy()))"
   ]
  },
  {
   "cell_type": "code",
   "execution_count": 102,
   "metadata": {},
   "outputs": [
    {
     "data": {
      "text/plain": [
       "GridSearchCV(estimator=SVC(probability=True, random_state=42),\n",
       "             param_grid=[{'C': [10, 100], 'gamma': [0.001, 0.0001],\n",
       "                          'kernel': ['linear', 'rbf']}])"
      ]
     },
     "execution_count": 102,
     "metadata": {},
     "output_type": "execute_result"
    }
   ],
   "source": [
    "model = SVC(random_state=42, probability=True)\n",
    "\n",
    "# specify the parameter combinations to be tested\n",
    "parameters = [\n",
    "    {'C': [10, 100], 'gamma': [0.001, 0.0001], 'kernel': ['linear', 'rbf']}\n",
    "]\n",
    "grid_search = GridSearchCV(model, parameters)#, cv=10, return_train_score=True, n_jobs=-1)\n",
    "grid_search.fit(train_scaled, train_labels)\n",
    "\n"
   ]
  },
  {
   "cell_type": "code",
   "execution_count": 67,
   "metadata": {},
   "outputs": [
    {
     "name": "stdout",
     "output_type": "stream",
     "text": [
      "              precision    recall  f1-score   support\n",
      "\n",
      "           0       1.00      1.00      1.00        49\n",
      "           1       1.00      1.00      1.00        49\n",
      "           2       1.00      1.00      1.00        49\n",
      "           3       1.00      1.00      1.00        49\n",
      "           4       1.00      1.00      1.00        49\n",
      "           5       1.00      1.00      1.00        49\n",
      "           6       1.00      1.00      1.00        49\n",
      "           7       1.00      1.00      1.00        49\n",
      "           8       1.00      1.00      1.00        49\n",
      "           9       1.00      1.00      1.00        49\n",
      "          10       1.00      1.00      1.00        49\n",
      "          11       1.00      1.00      1.00        49\n",
      "          12       1.00      1.00      1.00        49\n",
      "          13       1.00      1.00      1.00        49\n",
      "          14       1.00      1.00      1.00        49\n",
      "          15       1.00      1.00      1.00        49\n",
      "          16       1.00      1.00      1.00        49\n",
      "          17       1.00      1.00      1.00        49\n",
      "          18       1.00      1.00      1.00        49\n",
      "          19       1.00      1.00      1.00        49\n",
      "          20       1.00      1.00      1.00        49\n",
      "          21       1.00      1.00      1.00        49\n",
      "          22       1.00      1.00      1.00        49\n",
      "          23       1.00      1.00      1.00        49\n",
      "          24       1.00      1.00      1.00        49\n",
      "          25       1.00      1.00      1.00        49\n",
      "          26       1.00      1.00      1.00        49\n",
      "          27       1.00      1.00      1.00        49\n",
      "          28       1.00      1.00      1.00        49\n",
      "          29       1.00      1.00      1.00        45\n",
      "          30       1.00      1.00      1.00        49\n",
      "          31       1.00      1.00      1.00        49\n",
      "          32       1.00      1.00      1.00        49\n",
      "          33       1.00      1.00      1.00        49\n",
      "          34       1.00      1.00      1.00        49\n",
      "          35       1.00      1.00      1.00        49\n",
      "\n",
      "    accuracy                           1.00      1760\n",
      "   macro avg       1.00      1.00      1.00      1760\n",
      "weighted avg       1.00      1.00      1.00      1760\n",
      "\n"
     ]
    }
   ],
   "source": [
    "train_predictions = grid_search.best_estimator_.predict(train_scaled)\n",
    "cls_report_train = classification_report(train_labels, train_predictions)\n",
    "print(cls_report_train)"
   ]
  },
  {
   "cell_type": "code",
   "execution_count": 70,
   "metadata": {},
   "outputs": [
    {
     "name": "stdout",
     "output_type": "stream",
     "text": [
      "              precision    recall  f1-score   support\n",
      "\n",
      "           0       0.91      1.00      0.95        21\n",
      "           1       1.00      0.95      0.98        21\n",
      "           2       0.95      1.00      0.98        21\n",
      "           3       1.00      1.00      1.00        21\n",
      "           4       1.00      0.95      0.98        21\n",
      "           5       1.00      1.00      1.00        21\n",
      "           6       0.89      0.81      0.85        21\n",
      "           7       0.95      0.95      0.95        21\n",
      "           8       0.91      1.00      0.95        21\n",
      "           9       1.00      0.95      0.98        21\n",
      "          10       1.00      0.95      0.98        21\n",
      "          11       1.00      1.00      1.00        21\n",
      "          12       1.00      0.95      0.98        21\n",
      "          13       1.00      1.00      1.00        21\n",
      "          14       1.00      1.00      1.00        21\n",
      "          15       1.00      1.00      1.00        21\n",
      "          16       1.00      1.00      1.00        21\n",
      "          17       1.00      1.00      1.00        21\n",
      "          18       1.00      1.00      1.00        21\n",
      "          19       1.00      1.00      1.00        21\n",
      "          20       1.00      1.00      1.00        21\n",
      "          21       1.00      1.00      1.00        21\n",
      "          22       0.91      1.00      0.95        21\n",
      "          23       1.00      0.95      0.98        21\n",
      "          24       0.95      0.90      0.93        21\n",
      "          25       1.00      1.00      1.00        21\n",
      "          26       1.00      1.00      1.00        21\n",
      "          27       1.00      1.00      1.00        21\n",
      "          28       0.95      0.95      0.95        21\n",
      "          29       1.00      1.00      1.00        20\n",
      "          30       1.00      0.95      0.98        21\n",
      "          31       0.95      0.95      0.95        21\n",
      "          32       0.83      0.95      0.89        21\n",
      "          33       1.00      1.00      1.00        21\n",
      "          34       1.00      1.00      1.00        21\n",
      "          35       1.00      1.00      1.00        21\n",
      "\n",
      "    accuracy                           0.98       755\n",
      "   macro avg       0.98      0.98      0.98       755\n",
      "weighted avg       0.98      0.98      0.98       755\n",
      "\n"
     ]
    }
   ],
   "source": [
    "test_scaled = scaler.transform(test_data.values)\n",
    "test_predictions = grid_search.best_estimator_.predict(test_scaled)\n",
    "cls_report_test = classification_report(test_labels, test_predictions)\n",
    "print(cls_report_test)"
   ]
  },
  {
   "cell_type": "code",
   "execution_count": null,
   "metadata": {},
   "outputs": [],
   "source": [
    "# Pipeline\n",
    "\n",
    "\n"
   ]
  },
  {
   "cell_type": "markdown",
   "metadata": {},
   "source": [
    "# User Testing\n",
    "After training the model, I decided to use an actual picture of my own to see if I can get the right output"
   ]
  },
  {
   "cell_type": "code",
   "execution_count": 113,
   "metadata": {},
   "outputs": [
    {
     "name": "stdout",
     "output_type": "stream",
     "text": [
      "1600\n",
      "0 : 0.0034849994363312757\n",
      "1 : 0.0002041122251174405\n",
      "2 : 0.000285008745508253\n",
      "3 : 0.0006192157646110005\n",
      "4 : 0.0006529516562337898\n",
      "5 : 0.0015108819762719463\n",
      "6 : 0.0004376993290755167\n",
      "7 : 0.0007176794339487284\n",
      "8 : 0.0005456284749094798\n",
      "9 : 0.0004239694055383748\n",
      "a : 0.020603715236888014\n",
      "b : 0.000305956823470853\n",
      "c : 0.002424928044374691\n",
      "d : 0.00025264848890633855\n"
     ]
    },
    {
     "name": "stderr",
     "output_type": "stream",
     "text": [
      "/home/logan/miniconda3/envs/csi4106/lib/python3.8/site-packages/sklearn/base.py:443: UserWarning: X has feature names, but SVC was fitted without feature names\n",
      "  warnings.warn(\n",
      "/home/logan/miniconda3/envs/csi4106/lib/python3.8/site-packages/sklearn/base.py:443: UserWarning: X has feature names, but SVC was fitted without feature names\n",
      "  warnings.warn(\n",
      "/home/logan/miniconda3/envs/csi4106/lib/python3.8/site-packages/sklearn/base.py:443: UserWarning: X has feature names, but SVC was fitted without feature names\n",
      "  warnings.warn(\n",
      "/home/logan/miniconda3/envs/csi4106/lib/python3.8/site-packages/sklearn/base.py:443: UserWarning: X has feature names, but SVC was fitted without feature names\n",
      "  warnings.warn(\n",
      "/home/logan/miniconda3/envs/csi4106/lib/python3.8/site-packages/sklearn/base.py:443: UserWarning: X has feature names, but SVC was fitted without feature names\n",
      "  warnings.warn(\n",
      "/home/logan/miniconda3/envs/csi4106/lib/python3.8/site-packages/sklearn/base.py:443: UserWarning: X has feature names, but SVC was fitted without feature names\n",
      "  warnings.warn(\n",
      "/home/logan/miniconda3/envs/csi4106/lib/python3.8/site-packages/sklearn/base.py:443: UserWarning: X has feature names, but SVC was fitted without feature names\n",
      "  warnings.warn(\n",
      "/home/logan/miniconda3/envs/csi4106/lib/python3.8/site-packages/sklearn/base.py:443: UserWarning: X has feature names, but SVC was fitted without feature names\n",
      "  warnings.warn(\n",
      "/home/logan/miniconda3/envs/csi4106/lib/python3.8/site-packages/sklearn/base.py:443: UserWarning: X has feature names, but SVC was fitted without feature names\n",
      "  warnings.warn(\n",
      "/home/logan/miniconda3/envs/csi4106/lib/python3.8/site-packages/sklearn/base.py:443: UserWarning: X has feature names, but SVC was fitted without feature names\n",
      "  warnings.warn(\n",
      "/home/logan/miniconda3/envs/csi4106/lib/python3.8/site-packages/sklearn/base.py:443: UserWarning: X has feature names, but SVC was fitted without feature names\n",
      "  warnings.warn(\n",
      "/home/logan/miniconda3/envs/csi4106/lib/python3.8/site-packages/sklearn/base.py:443: UserWarning: X has feature names, but SVC was fitted without feature names\n",
      "  warnings.warn(\n",
      "/home/logan/miniconda3/envs/csi4106/lib/python3.8/site-packages/sklearn/base.py:443: UserWarning: X has feature names, but SVC was fitted without feature names\n",
      "  warnings.warn(\n",
      "/home/logan/miniconda3/envs/csi4106/lib/python3.8/site-packages/sklearn/base.py:443: UserWarning: X has feature names, but SVC was fitted without feature names\n",
      "  warnings.warn(\n",
      "/home/logan/miniconda3/envs/csi4106/lib/python3.8/site-packages/sklearn/base.py:443: UserWarning: X has feature names, but SVC was fitted without feature names\n",
      "  warnings.warn(\n",
      "/home/logan/miniconda3/envs/csi4106/lib/python3.8/site-packages/sklearn/base.py:443: UserWarning: X has feature names, but SVC was fitted without feature names\n",
      "  warnings.warn(\n",
      "/home/logan/miniconda3/envs/csi4106/lib/python3.8/site-packages/sklearn/base.py:443: UserWarning: X has feature names, but SVC was fitted without feature names\n",
      "  warnings.warn(\n",
      "/home/logan/miniconda3/envs/csi4106/lib/python3.8/site-packages/sklearn/base.py:443: UserWarning: X has feature names, but SVC was fitted without feature names\n",
      "  warnings.warn(\n",
      "/home/logan/miniconda3/envs/csi4106/lib/python3.8/site-packages/sklearn/base.py:443: UserWarning: X has feature names, but SVC was fitted without feature names\n",
      "  warnings.warn(\n",
      "/home/logan/miniconda3/envs/csi4106/lib/python3.8/site-packages/sklearn/base.py:443: UserWarning: X has feature names, but SVC was fitted without feature names\n",
      "  warnings.warn(\n",
      "/home/logan/miniconda3/envs/csi4106/lib/python3.8/site-packages/sklearn/base.py:443: UserWarning: X has feature names, but SVC was fitted without feature names\n",
      "  warnings.warn(\n"
     ]
    },
    {
     "name": "stdout",
     "output_type": "stream",
     "text": [
      "e : 0.011971715142615375\n",
      "f : 0.00026308225607964456\n",
      "g : 0.008973831232694423\n",
      "h : 0.0010459774116989371\n",
      "i : 0.002324312990280723\n",
      "j : 0.8003726252373343\n",
      "k : 0.00026102303917388477\n",
      "l : 0.0005185647663714566\n",
      "m : 0.08855003229780975\n",
      "n : 0.010366247471981137\n",
      "o : 0.002934253946076952\n",
      "p : 0.0006501662859940093\n",
      "q : 0.006810870328561077\n",
      "r : 0.00016698512371415847\n",
      "s : 0.00949178285461032\n",
      "t : 0.004079314767536878\n",
      "u : 0.00018912429314063873\n",
      "v : 0.00024219708686111098\n",
      "w : 0.00032974085860028844\n",
      "x : 0.0007984432986249062\n",
      "y : 0.016944297665292343\n",
      "z : 0.0002460166037605586\n"
     ]
    },
    {
     "name": "stderr",
     "output_type": "stream",
     "text": [
      "/home/logan/miniconda3/envs/csi4106/lib/python3.8/site-packages/sklearn/base.py:443: UserWarning: X has feature names, but SVC was fitted without feature names\n",
      "  warnings.warn(\n",
      "/home/logan/miniconda3/envs/csi4106/lib/python3.8/site-packages/sklearn/base.py:443: UserWarning: X has feature names, but SVC was fitted without feature names\n",
      "  warnings.warn(\n",
      "/home/logan/miniconda3/envs/csi4106/lib/python3.8/site-packages/sklearn/base.py:443: UserWarning: X has feature names, but SVC was fitted without feature names\n",
      "  warnings.warn(\n",
      "/home/logan/miniconda3/envs/csi4106/lib/python3.8/site-packages/sklearn/base.py:443: UserWarning: X has feature names, but SVC was fitted without feature names\n",
      "  warnings.warn(\n",
      "/home/logan/miniconda3/envs/csi4106/lib/python3.8/site-packages/sklearn/base.py:443: UserWarning: X has feature names, but SVC was fitted without feature names\n",
      "  warnings.warn(\n",
      "/home/logan/miniconda3/envs/csi4106/lib/python3.8/site-packages/sklearn/base.py:443: UserWarning: X has feature names, but SVC was fitted without feature names\n",
      "  warnings.warn(\n",
      "/home/logan/miniconda3/envs/csi4106/lib/python3.8/site-packages/sklearn/base.py:443: UserWarning: X has feature names, but SVC was fitted without feature names\n",
      "  warnings.warn(\n",
      "/home/logan/miniconda3/envs/csi4106/lib/python3.8/site-packages/sklearn/base.py:443: UserWarning: X has feature names, but SVC was fitted without feature names\n",
      "  warnings.warn(\n",
      "/home/logan/miniconda3/envs/csi4106/lib/python3.8/site-packages/sklearn/base.py:443: UserWarning: X has feature names, but SVC was fitted without feature names\n",
      "  warnings.warn(\n",
      "/home/logan/miniconda3/envs/csi4106/lib/python3.8/site-packages/sklearn/base.py:443: UserWarning: X has feature names, but SVC was fitted without feature names\n",
      "  warnings.warn(\n",
      "/home/logan/miniconda3/envs/csi4106/lib/python3.8/site-packages/sklearn/base.py:443: UserWarning: X has feature names, but SVC was fitted without feature names\n",
      "  warnings.warn(\n",
      "/home/logan/miniconda3/envs/csi4106/lib/python3.8/site-packages/sklearn/base.py:443: UserWarning: X has feature names, but SVC was fitted without feature names\n",
      "  warnings.warn(\n",
      "/home/logan/miniconda3/envs/csi4106/lib/python3.8/site-packages/sklearn/base.py:443: UserWarning: X has feature names, but SVC was fitted without feature names\n",
      "  warnings.warn(\n",
      "/home/logan/miniconda3/envs/csi4106/lib/python3.8/site-packages/sklearn/base.py:443: UserWarning: X has feature names, but SVC was fitted without feature names\n",
      "  warnings.warn(\n",
      "/home/logan/miniconda3/envs/csi4106/lib/python3.8/site-packages/sklearn/base.py:443: UserWarning: X has feature names, but SVC was fitted without feature names\n",
      "  warnings.warn(\n"
     ]
    },
    {
     "data": {
      "image/png": "[encoded data removed]",
      "text/plain": [
       "<Figure size 432x288 with 1 Axes>"
      ]
     },
     "metadata": {
      "needs_background": "light"
     },
     "output_type": "display_data"
    }
   ],
   "source": [
    "\n",
    "gray_image = resize(skimage.color.rgb2gray(io.imread('./MYTESTINGIMAGE/Selection_032.png')), (40, 40))\n",
    "numberized_image = gray_image.flatten()\n",
    "print(len(numberized_image))\n",
    "column_names = []\n",
    "[column_names.append(\"p\"+str(x)) for x in range(0,len(numberized_image))] # shape (785,0)\n",
    "numberized_df = pd.DataFrame(columns=column_names)\n",
    "\n",
    "numberized_df = pd.DataFrame(columns=column_names)\n",
    "numberized_image_df = pd.DataFrame(columns=column_names)\n",
    "numberized_image_df.loc[0] = numberized_image\n",
    "\n",
    "plt.imshow(gray_image, cmap = 'gray')\n",
    "\n",
    "for i in range(len(class_names)):\n",
    "  print(class_names[i], ':', grid_search.predict_proba(numberized_image_df)[0][i])"
   ]
  }
 ],
 "metadata": {
  "interpreter": {
   "hash": "367e97bd1bb993270875333a5c0c0ed703268d8b20e00e99d22f213f8fc7c5a0"
  },
  "kernelspec": {
   "display_name": "Python 3.8.12 ('csi4106')",
   "language": "python",
   "name": "python3"
  },
  "language_info": {
   "codemirror_mode": {
    "name": "ipython",
    "version": 3
   },
   "file_extension": ".py",
   "mimetype": "text/x-python",
   "name": "python",
   "nbconvert_exporter": "python",
   "pygments_lexer": "ipython3",
   "version": "3.8.12"
  },
  "orig_nbformat": 4
 },
 "nbformat": 4,
 "nbformat_minor": 2
}
